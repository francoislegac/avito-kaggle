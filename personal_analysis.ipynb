{
 "cells": [
  {
   "cell_type": "code",
   "execution_count": 73,
   "metadata": {},
   "outputs": [],
   "source": [
    "import pandas as pd \n",
    "import numpy as np\n",
    "import matplotlib.pyplot as plt\n",
    "import seaborn as sns\n",
    "%matplotlib inline"
   ]
  },
  {
   "attachments": {},
   "cell_type": "markdown",
   "metadata": {},
   "source": [
    "# Avito \n",
    "\n",
    "info \n",
    "- 3 diff types of ads available to sellers on Avito: regular, highlighted, and context. \n",
    "- context ads : predict which ad will be the most relevant for (and earn the most clicks from) each potential buyer. \n",
    "- **improve on their model by predicting if individual users will click a given context ad.**\n",
    "- i.e. more accurately predict click-through rates for their ads\n",
    "\n",
    "f(x) ~ y where y is \"isClick\" meaning does the person has clicked on the ad  \n",
    "R -> {0,1} => binary classif\n",
    "\n",
    "\n",
    "## Intro\n",
    "\n",
    "### Dataset\n",
    "\n",
    "Click through rate = (#click / #impression ) * 100\n",
    "\n",
    "PHONEREQUESTS: \n",
    "IPID - anonymized identifier of visitor's IP. => is it different from UserID ? \n",
    "\n",
    "\n",
    "\n",
    "\n",
    "\n",
    "### Conjecture\n",
    "\n",
    "Qu'est-ce qui fait qu'on clique sur une ad de context ?  \n",
    "On clique si l'ad est personnalisée, si elle est adaptée à ce que je recherche ou ce que je suis.  \n",
    "Ex : pub pour des couches pour une femme enceinte.  \n",
    "Comment le match entre l'attente de l'utilisateur et le contenu se fait ? L'ad doit être en lien avec les caractéristiques de l'utilsateur. Elle doit probablement être proche de l'intitulé de la recherche ou des filtres mis en place pdt la recherche.  \n",
    "\n",
    "\n",
    "Un autre facteur dans la décision probable, c'est le profil de l'utilisateur. Certains clique volontier sur des offres de context, d'autres non.  \n",
    "\n",
    "Le type de la pub joue intrinsèquement un rôle. Ex une pub pour smartphone est + populaire qu'une pub pour un fer à cheval. \n",
    "\n",
    "isClick ~ HistCTR + ... + AdsInfo.price + \n",
    "\n",
    "\n",
    "### Analyse\n",
    "=> analyser les recherches \n",
    "    quelles recherches sont les + populaires ? \n",
    "    ça implique p-e de traduire les queries\n",
    "\n",
    "=> analyser les ads  \n",
    "    quelles ads sont les + populaires  \n",
    "        + d'impression  \n",
    "        + de clicks\n",
    "Il doit y avoir une forte correlation entre la top add de la recherche et l'ad context \n",
    "    \n",
    "=> analyser les users  \n",
    "    quels utilisateurs font le + de recherche ?  \n",
    "    est-ce qu'on peut dresser des profils d'utilisateurs ? En fonction de leurs envie ?\n",
    "    est-ce que certaines zones ont des profils d'utilisateurs avec des envies spécifiques ? \n",
    " \n",
    "    \n",
    "Traduire : query dans SearchInfos + les categories\n"
   ]
  },
  {
   "cell_type": "code",
   "execution_count": 3,
   "metadata": {},
   "outputs": [
    {
     "name": "stdout",
     "output_type": "stream",
     "text": [
      "[sudo] password for francois: \n"
     ]
    }
   ],
   "source": [
    "! sudo mount -t drvfs f: /mnt/f"
   ]
  },
  {
   "cell_type": "code",
   "execution_count": 30,
   "metadata": {},
   "outputs": [],
   "source": [
    "ROOT_DIR = '/mnt/f/avito-kaggle/'\n",
    "SAMPLE_SIZE = 1e4"
   ]
  },
  {
   "cell_type": "code",
   "execution_count": 31,
   "metadata": {},
   "outputs": [],
   "source": [
    "search_info = pd.read_csv(f\"{ROOT_DIR}SearchInfo.tsv\", nrows=SAMPLE_SIZE, delimiter=\"\\t\", encoding=\"utf-8-sig\"\n",
    ")"
   ]
  },
  {
   "cell_type": "code",
   "execution_count": 5,
   "metadata": {},
   "outputs": [
    {
     "name": "stdout",
     "output_type": "stream",
     "text": [
      "7zfiles       Location.tsv\t\t  UserInfo.tsv\n",
      "AdsInfo.tsv   PhoneRequestsStream.tsv.7z  VisitsStream.tsv\n",
      "Category.tsv  SearchInfo.tsv\t\t  avito-context-ad-clicks.zip\n"
     ]
    }
   ],
   "source": [
    "! ls /mnt/f/avito-kaggle"
   ]
  },
  {
   "cell_type": "code",
   "execution_count": 8,
   "metadata": {},
   "outputs": [],
   "source": [
    "location = pd.read_csv(f'{ROOT_DIR}location.tsv', sep='\\t')\n",
    "user_info = pd.read_csv(f'{ROOT_DIR}userInfo.tsv', sep='\\t')\n",
    "category = pd.read_csv(f'{ROOT_DIR}category.tsv', sep='\\t')"
   ]
  },
  {
   "cell_type": "code",
   "execution_count": 32,
   "metadata": {},
   "outputs": [],
   "source": [
    "ads_info = pd.read_csv(f'{ROOT_DIR}AdsInfo.tsv', sep='\\t', nrows=SAMPLE_SIZE)"
   ]
  },
  {
   "cell_type": "code",
   "execution_count": 33,
   "metadata": {},
   "outputs": [],
   "source": [
    "visits_stream = pd.read_csv(f'{ROOT_DIR}VisitsStream.tsv', sep='\\t', nrows=SAMPLE_SIZE)"
   ]
  },
  {
   "cell_type": "code",
   "execution_count": 23,
   "metadata": {},
   "outputs": [],
   "source": [
    "phone_requests_stream = pd.read_csv(f'{ROOT_DIR}PhoneRequestsStream.tsv', sep='\\t')"
   ]
  },
  {
   "cell_type": "code",
   "execution_count": 34,
   "metadata": {},
   "outputs": [],
   "source": [
    "train_search_stream = pd.read_csv(f'{ROOT_DIR}trainSearchStream.tsv', sep='\\t', nrows=SAMPLE_SIZE)\n",
    "test_search_stream = pd.read_csv(f'{ROOT_DIR}testSearchStream.tsv', sep='\\t', nrows=SAMPLE_SIZE)"
   ]
  },
  {
   "cell_type": "markdown",
   "metadata": {},
   "source": []
  },
  {
   "attachments": {},
   "cell_type": "markdown",
   "metadata": {},
   "source": [
    "## Data analysis\n",
    "\n",
    "### Missing values"
   ]
  },
  {
   "cell_type": "code",
   "execution_count": 47,
   "metadata": {},
   "outputs": [],
   "source": [
    "def show_missing_values(df):\n",
    "    print(df.name)\n",
    "    print(df.isna().sum())\n",
    "    print(f'Total missing values: {df.isna().sum().sum()}\\n')"
   ]
  },
  {
   "cell_type": "code",
   "execution_count": 44,
   "metadata": {},
   "outputs": [],
   "source": [
    "# 8 tables => 9 df (search stream df divided train/test)\n",
    "search_info.name = \"search_info\" #échantillonné\n",
    "location.name = \"location\"\n",
    "user_info.name = \"user_info\"\n",
    "category.name = \"category\"\n",
    "ads_info.name = \"ads_info\" #échantillonné\n",
    "visits_stream.name = \"visits_stream\" #échantillonné\n",
    "phone_requests_stream.name = \"phone_requests_stream\" \n",
    "train_search_stream.name = \"train_search_stream\" #échantillonné\n",
    "test_search_stream.name = \"test_search_stream\" #échantillonné\n",
    "\n",
    "dfs = dict(\n",
    "    search_info = search_info,\n",
    "    location = location, \n",
    "    user_info = user_info, \n",
    "    category = category, \n",
    "    ads_info = ads_info,\n",
    "    visits_stream = visits_stream, \n",
    "    phone_requests_stream = phone_requests_stream, \n",
    "    train_search_stream = train_search_stream, \n",
    "    test_search_stream = test_search_stream\n",
    ")"
   ]
  },
  {
   "cell_type": "code",
   "execution_count": 48,
   "metadata": {},
   "outputs": [
    {
     "name": "stdout",
     "output_type": "stream",
     "text": [
      "search_info\n",
      "SearchID             0\n",
      "SearchDate           0\n",
      "IPID                 0\n",
      "UserID               0\n",
      "IsUserLoggedOn       0\n",
      "SearchQuery       8438\n",
      "LocationID           0\n",
      "CategoryID           0\n",
      "SearchParams      5128\n",
      "dtype: int64\n",
      "Total missing values: 13566\n",
      "\n",
      "location\n",
      "LocationID    0\n",
      "Level         0\n",
      "RegionID      1\n",
      "CityID        1\n",
      "dtype: int64\n",
      "Total missing values: 2\n",
      "\n",
      "user_info\n",
      "UserID               0\n",
      "UserAgentID          0\n",
      "UserAgentOSID        0\n",
      "UserDeviceID         0\n",
      "UserAgentFamilyID    0\n",
      "dtype: int64\n",
      "Total missing values: 0\n",
      "\n",
      "category\n",
      "CategoryID          0\n",
      "Level               0\n",
      "ParentCategoryID    0\n",
      "SubcategoryID       0\n",
      "dtype: int64\n",
      "Total missing values: 0\n",
      "\n",
      "ads_info\n",
      "AdID            0\n",
      "LocationID     12\n",
      "CategoryID      0\n",
      "Params        261\n",
      "Price           0\n",
      "Title           0\n",
      "IsContext       0\n",
      "dtype: int64\n",
      "Total missing values: 273\n",
      "\n",
      "visits_stream\n",
      "UserID      0\n",
      "IPID        0\n",
      "AdID        0\n",
      "ViewDate    0\n",
      "dtype: int64\n",
      "Total missing values: 0\n",
      "\n",
      "phone_requests_stream\n",
      "UserID              0\n",
      "IPID                0\n",
      "AdID                0\n",
      "PhoneRequestDate    0\n",
      "dtype: int64\n",
      "Total missing values: 0\n",
      "\n",
      "train_search_stream\n",
      "SearchID         0\n",
      "AdID             0\n",
      "Position         0\n",
      "ObjectType       0\n",
      "HistCTR       5132\n",
      "IsClick       5132\n",
      "dtype: int64\n",
      "Total missing values: 10264\n",
      "\n",
      "test_search_stream\n",
      "ID               0\n",
      "SearchID         0\n",
      "AdID             0\n",
      "Position         0\n",
      "ObjectType       0\n",
      "HistCTR       5104\n",
      "dtype: int64\n",
      "Total missing values: 5104\n",
      "\n"
     ]
    }
   ],
   "source": [
    "for df in dfs.values():\n",
    "    show_missing_values(df)"
   ]
  },
  {
   "attachments": {},
   "cell_type": "markdown",
   "metadata": {},
   "source": [
    "SEARCH INFO :  \n",
    "Pas de surprise pour ce dataframe les variables searchquery et searchparams présentent des valeurs manquantes. Le reste non  \n",
    "Pour rappel :  \n",
    "- SearchParams dictionary-like structure with optional filters of the search if they were specified while search. NULL otherwise.\n",
    "- SearchQuery - raw query text if it was specified while search. NULL otherwise.\n",
    "\n",
    "LOCATION :\n",
    "2 NA sur une seule ligne"
   ]
  },
  {
   "cell_type": "code",
   "execution_count": 55,
   "metadata": {},
   "outputs": [
    {
     "data": {
      "text/html": [
       "<div>\n",
       "<style scoped>\n",
       "    .dataframe tbody tr th:only-of-type {\n",
       "        vertical-align: middle;\n",
       "    }\n",
       "\n",
       "    .dataframe tbody tr th {\n",
       "        vertical-align: top;\n",
       "    }\n",
       "\n",
       "    .dataframe thead th {\n",
       "        text-align: right;\n",
       "    }\n",
       "</style>\n",
       "<table border=\"1\" class=\"dataframe\">\n",
       "  <thead>\n",
       "    <tr style=\"text-align: right;\">\n",
       "      <th></th>\n",
       "      <th>LocationID</th>\n",
       "      <th>Level</th>\n",
       "      <th>RegionID</th>\n",
       "      <th>CityID</th>\n",
       "    </tr>\n",
       "  </thead>\n",
       "  <tbody>\n",
       "    <tr>\n",
       "      <th>2483</th>\n",
       "      <td>2885</td>\n",
       "      <td>1</td>\n",
       "      <td>NaN</td>\n",
       "      <td>NaN</td>\n",
       "    </tr>\n",
       "  </tbody>\n",
       "</table>\n",
       "</div>"
      ],
      "text/plain": [
       "      LocationID  Level  RegionID  CityID\n",
       "2483        2885      1       NaN     NaN"
      ]
     },
     "execution_count": 55,
     "metadata": {},
     "output_type": "execute_result"
    }
   ],
   "source": [
    "location[location.isna().any(axis=1)] #bizarrement pour cette ligne on a pas de regionID ni de CityID. Pour l'instant je la laisse"
   ]
  },
  {
   "attachments": {},
   "cell_type": "markdown",
   "metadata": {},
   "source": [
    "ADS INFO (échantillonné) :  \n",
    "LocationID présente des valeurs manquante (peu). En revanche sans surprise Params présente de nombreuses valeurs manquantes.  \n",
    "Pour rappel : Params parameters for the context ad in dictionary-like format. NULL for some ads (where no parameters are available). Ex : gender, size , ...  \n",
    "Note that both Params from AdsInfo.tsv and SearchParams from SearchInfo.tsv shares same dictionary (keys and values).\n",
    "=> pas de modifs\n",
    "\n",
    "TRAIN & TEST SEARCH :\n",
    "Only HistCTR qui présente des valeurs manquantes. Parait normal aussi => pas de modifs\n",
    "\n",
    "### Distribution de la variable cible - isClick\n",
    "\n",
    "Essayons de voir si on ne peut pas la charger en entier sans faire planter la RAM"
   ]
  },
  {
   "cell_type": "code",
   "execution_count": 68,
   "metadata": {},
   "outputs": [],
   "source": [
    "y = pd.read_csv(f'{ROOT_DIR}trainSearchStream.tsv', sep='\\t', usecols=[\"IsClick\"], squeeze=True)"
   ]
  },
  {
   "cell_type": "code",
   "execution_count": 71,
   "metadata": {},
   "outputs": [],
   "source": [
    "tmp = y[:100]"
   ]
  },
  {
   "cell_type": "code",
   "execution_count": 72,
   "metadata": {},
   "outputs": [
    {
     "data": {
      "text/plain": [
       "0.0    189011446\n",
       "1.0      1146289\n",
       "Name: IsClick, dtype: int64"
      ]
     },
     "execution_count": 72,
     "metadata": {},
     "output_type": "execute_result"
    }
   ],
   "source": [
    "y.value_counts()"
   ]
  },
  {
   "cell_type": "code",
   "execution_count": 69,
   "metadata": {},
   "outputs": [],
   "source": [
    "def plot_binary_distribution(y):\n",
    "    # Count the number of occurrences of each class in y\n",
    "    class_counts = y.value_counts()\n",
    "\n",
    "    # Get the names of the classes\n",
    "    class_names = class_counts.index\n",
    "\n",
    "    # Set the figure size\n",
    "    plt.figure(figsize=(5,5))\n",
    "\n",
    "    # Create a pie chart to display the distribution of the classes\n",
    "    plt.pie(class_counts, labels=class_names, autopct='%1.1f%%', shadow=True, startangle=90)\n",
    "\n",
    "    # Add a title\n",
    "    plt.title('Distribution of IsClick Variable')\n",
    "\n",
    "    # Display the plot\n",
    "    plt.show()"
   ]
  },
  {
   "cell_type": "code",
   "execution_count": 84,
   "metadata": {},
   "outputs": [
    {
     "ename": "KeyboardInterrupt",
     "evalue": "",
     "output_type": "error",
     "traceback": [
      "\u001b[0;31m---------------------------------------------------------------------------\u001b[0m",
      "\u001b[0;31mKeyboardInterrupt\u001b[0m                         Traceback (most recent call last)",
      "\u001b[1;32m/home/francois/tuto/avito-kaggle/personal_analysis.ipynb Cell 24\u001b[0m in \u001b[0;36m<cell line: 1>\u001b[0;34m()\u001b[0m\n\u001b[0;32m----> <a href='vscode-notebook-cell://wsl%2Bubuntu/home/francois/tuto/avito-kaggle/personal_analysis.ipynb#X52sdnNjb2RlLXJlbW90ZQ%3D%3D?line=0'>1</a>\u001b[0m plot_binary_distribution(y)\n",
      "\u001b[1;32m/home/francois/tuto/avito-kaggle/personal_analysis.ipynb Cell 24\u001b[0m in \u001b[0;36mplot_binary_distribution\u001b[0;34m(y)\u001b[0m\n\u001b[1;32m      <a href='vscode-notebook-cell://wsl%2Bubuntu/home/francois/tuto/avito-kaggle/personal_analysis.ipynb#X52sdnNjb2RlLXJlbW90ZQ%3D%3D?line=0'>1</a>\u001b[0m \u001b[39mdef\u001b[39;00m \u001b[39mplot_binary_distribution\u001b[39m(y):\n\u001b[1;32m      <a href='vscode-notebook-cell://wsl%2Bubuntu/home/francois/tuto/avito-kaggle/personal_analysis.ipynb#X52sdnNjb2RlLXJlbW90ZQ%3D%3D?line=1'>2</a>\u001b[0m     \u001b[39m# Count the number of occurrences of each class in y\u001b[39;00m\n\u001b[0;32m----> <a href='vscode-notebook-cell://wsl%2Bubuntu/home/francois/tuto/avito-kaggle/personal_analysis.ipynb#X52sdnNjb2RlLXJlbW90ZQ%3D%3D?line=2'>3</a>\u001b[0m     class_counts \u001b[39m=\u001b[39m y\u001b[39m.\u001b[39;49mvalue_counts()\n\u001b[1;32m      <a href='vscode-notebook-cell://wsl%2Bubuntu/home/francois/tuto/avito-kaggle/personal_analysis.ipynb#X52sdnNjb2RlLXJlbW90ZQ%3D%3D?line=4'>5</a>\u001b[0m     \u001b[39m# Get the names of the classes\u001b[39;00m\n\u001b[1;32m      <a href='vscode-notebook-cell://wsl%2Bubuntu/home/francois/tuto/avito-kaggle/personal_analysis.ipynb#X52sdnNjb2RlLXJlbW90ZQ%3D%3D?line=5'>6</a>\u001b[0m     class_names \u001b[39m=\u001b[39m class_counts\u001b[39m.\u001b[39mindex\n",
      "File \u001b[0;32m~/miniconda3/envs/datascience/lib/python3.8/site-packages/pandas/core/base.py:960\u001b[0m, in \u001b[0;36mIndexOpsMixin.value_counts\u001b[0;34m(self, normalize, sort, ascending, bins, dropna)\u001b[0m\n\u001b[1;32m    874\u001b[0m \u001b[39mdef\u001b[39;00m \u001b[39mvalue_counts\u001b[39m(\n\u001b[1;32m    875\u001b[0m     \u001b[39mself\u001b[39m,\n\u001b[1;32m    876\u001b[0m     normalize: \u001b[39mbool\u001b[39m \u001b[39m=\u001b[39m \u001b[39mFalse\u001b[39;00m,\n\u001b[0;32m   (...)\u001b[0m\n\u001b[1;32m    880\u001b[0m     dropna: \u001b[39mbool\u001b[39m \u001b[39m=\u001b[39m \u001b[39mTrue\u001b[39;00m,\n\u001b[1;32m    881\u001b[0m ):\n\u001b[1;32m    882\u001b[0m     \u001b[39m\"\"\"\u001b[39;00m\n\u001b[1;32m    883\u001b[0m \u001b[39m    Return a Series containing counts of unique values.\u001b[39;00m\n\u001b[1;32m    884\u001b[0m \n\u001b[0;32m   (...)\u001b[0m\n\u001b[1;32m    958\u001b[0m \u001b[39m    dtype: int64\u001b[39;00m\n\u001b[1;32m    959\u001b[0m \u001b[39m    \"\"\"\u001b[39;00m\n\u001b[0;32m--> 960\u001b[0m     \u001b[39mreturn\u001b[39;00m value_counts(\n\u001b[1;32m    961\u001b[0m         \u001b[39mself\u001b[39;49m,\n\u001b[1;32m    962\u001b[0m         sort\u001b[39m=\u001b[39;49msort,\n\u001b[1;32m    963\u001b[0m         ascending\u001b[39m=\u001b[39;49mascending,\n\u001b[1;32m    964\u001b[0m         normalize\u001b[39m=\u001b[39;49mnormalize,\n\u001b[1;32m    965\u001b[0m         bins\u001b[39m=\u001b[39;49mbins,\n\u001b[1;32m    966\u001b[0m         dropna\u001b[39m=\u001b[39;49mdropna,\n\u001b[1;32m    967\u001b[0m     )\n",
      "File \u001b[0;32m~/miniconda3/envs/datascience/lib/python3.8/site-packages/pandas/core/algorithms.py:862\u001b[0m, in \u001b[0;36mvalue_counts\u001b[0;34m(values, sort, ascending, normalize, bins, dropna)\u001b[0m\n\u001b[1;32m    859\u001b[0m         counts \u001b[39m=\u001b[39m result\u001b[39m.\u001b[39m_values\n\u001b[1;32m    861\u001b[0m     \u001b[39melse\u001b[39;00m:\n\u001b[0;32m--> 862\u001b[0m         keys, counts \u001b[39m=\u001b[39m value_counts_arraylike(values, dropna)\n\u001b[1;32m    864\u001b[0m         result \u001b[39m=\u001b[39m Series(counts, index\u001b[39m=\u001b[39mkeys, name\u001b[39m=\u001b[39mname)\n\u001b[1;32m    866\u001b[0m \u001b[39mif\u001b[39;00m sort:\n",
      "File \u001b[0;32m~/miniconda3/envs/datascience/lib/python3.8/site-packages/pandas/core/algorithms.py:893\u001b[0m, in \u001b[0;36mvalue_counts_arraylike\u001b[0;34m(values, dropna)\u001b[0m\n\u001b[1;32m    890\u001b[0m values, _ \u001b[39m=\u001b[39m _ensure_data(values)\n\u001b[1;32m    892\u001b[0m \u001b[39m# TODO: handle uint8\u001b[39;00m\n\u001b[0;32m--> 893\u001b[0m keys, counts \u001b[39m=\u001b[39m htable\u001b[39m.\u001b[39;49mvalue_count(values, dropna)\n\u001b[1;32m    895\u001b[0m \u001b[39mif\u001b[39;00m needs_i8_conversion(original\u001b[39m.\u001b[39mdtype):\n\u001b[1;32m    896\u001b[0m     \u001b[39m# datetime, timedelta, or period\u001b[39;00m\n\u001b[1;32m    898\u001b[0m     \u001b[39mif\u001b[39;00m dropna:\n",
      "\u001b[0;31mKeyboardInterrupt\u001b[0m: "
     ]
    }
   ],
   "source": [
    "plot_binary_distribution(y)"
   ]
  },
  {
   "cell_type": "code",
   "execution_count": null,
   "metadata": {},
   "outputs": [],
   "source": []
  }
 ],
 "metadata": {
  "kernelspec": {
   "display_name": "datascience",
   "language": "python",
   "name": "python3"
  },
  "language_info": {
   "codemirror_mode": {
    "name": "ipython",
    "version": 3
   },
   "file_extension": ".py",
   "mimetype": "text/x-python",
   "name": "python",
   "nbconvert_exporter": "python",
   "pygments_lexer": "ipython3",
   "version": "3.8.13"
  },
  "orig_nbformat": 4,
  "vscode": {
   "interpreter": {
    "hash": "8fbbd08c8c7bb2a358162d9c68626f539c0746a7240641f55db1d67d15cdf308"
   }
  }
 },
 "nbformat": 4,
 "nbformat_minor": 2
}
