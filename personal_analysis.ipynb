{
 "cells": [
  {
   "attachments": {},
   "cell_type": "markdown",
   "metadata": {},
   "source": [
    "Final notes / improvements after doing the analysis:\n",
    "- improve working with unstructured data in pandas dataframe\n",
    "- work on big data files => spacy\n",
    "- comment tester au fur et à mesure les résultats du notebook ? "
   ]
  },
  {
   "cell_type": "code",
   "execution_count": 2,
   "metadata": {},
   "outputs": [],
   "source": [
    "import pandas as pd \n",
    "import numpy as np\n",
    "import matplotlib.pyplot as plt\n",
    "import seaborn as sns\n",
    "from googletrans import Translator\n",
    "\n",
    "\n",
    "%matplotlib inline"
   ]
  },
  {
   "attachments": {},
   "cell_type": "markdown",
   "metadata": {},
   "source": [
    "# Avito \n",
    "\n",
    "info \n",
    "- 3 diff types of ads available to sellers on Avito: regular, highlighted, and context. \n",
    "- context ads : predict which ad will be the most relevant for (and earn the most clicks from) each potential buyer. \n",
    "- **improve on their model by predicting if individual users will click a given context ad.**\n",
    "- i.e. more accurately predict click-through rates for their ads\n",
    "\n",
    "f(x) ~ y where y is \"isClick\" meaning does the person has clicked on the ad  \n",
    "R -> {0,1} => binary classif\n",
    "\n",
    "\n",
    "## Intro\n",
    "\n",
    "### Dataset\n",
    "\n",
    "Click through rate = (#click / #impression ) * 100\n",
    "\n",
    "PHONEREQUESTS: \n",
    "IPID - anonymized identifier of visitor's IP. => is it different from UserID ? \n",
    "\n",
    "\n",
    "\n",
    "\n",
    "\n",
    "### Conjecture\n",
    "\n",
    "Qu'est-ce qui fait qu'on clique sur une ad de context ?  \n",
    "On clique si l'ad est personnalisée, si elle est adaptée à ce que je recherche ou ce que je suis.  \n",
    "Ex : pub pour des couches pour une femme enceinte.  \n",
    "Comment le match entre l'attente de l'utilisateur et le contenu se fait ? L'ad doit être en lien avec les caractéristiques de l'utilsateur. Elle doit probablement être proche de l'intitulé de la recherche ou des filtres mis en place pdt la recherche.  \n",
    "\n",
    "\n",
    "Un autre facteur dans la décision probable, c'est le profil de l'utilisateur. Certains clique volontier sur des offres de context, d'autres non.  \n",
    "\n",
    "Le type de la pub joue intrinsèquement un rôle. Ex une pub pour smartphone est + populaire qu'une pub pour un fer à cheval. \n",
    "\n",
    "isClick ~ HistCTR + ... + AdsInfo.price + \n",
    "\n",
    "\n",
    "### Analyse\n",
    "=> analyser les recherches \n",
    "    quelles recherches sont les + populaires ? \n",
    "    ça implique p-e de traduire les queries\n",
    "\n",
    "=> analyser les ads  \n",
    "    quelles ads sont les + populaires  \n",
    "        + d'impression  \n",
    "        + de clicks\n",
    "Il doit y avoir une forte correlation entre la top add de la recherche et l'ad context \n",
    "    \n",
    "=> analyser les users  \n",
    "    quels utilisateurs font le + de recherche ?  \n",
    "    est-ce qu'on peut dresser des profils d'utilisateurs ? En fonction de leurs envie ?\n",
    "    est-ce que certaines zones ont des profils d'utilisateurs avec des envies spécifiques ? \n",
    " \n",
    "    \n",
    "Traduire : query dans SearchInfos + les categories\n"
   ]
  },
  {
   "cell_type": "code",
   "execution_count": 3,
   "metadata": {},
   "outputs": [],
   "source": [
    "ROOT_DIR = '/mnt/f/avito-kaggle/'\n",
    "SAMPLE_SIZE = 1e4"
   ]
  },
  {
   "cell_type": "code",
   "execution_count": 4,
   "metadata": {},
   "outputs": [],
   "source": [
    "search_info = pd.read_csv(f\"{ROOT_DIR}SearchInfo.tsv\", nrows=SAMPLE_SIZE, delimiter=\"\\t\", encoding=\"utf-8-sig\"\n",
    ")"
   ]
  },
  {
   "cell_type": "code",
   "execution_count": 5,
   "metadata": {},
   "outputs": [
    {
     "name": "stdout",
     "output_type": "stream",
     "text": [
      "7zfiles       PhoneRequestsStream.tsv  avito-context-ad-clicks.zip\n",
      "AdsInfo.tsv   SearchInfo.tsv\t       testSearchStream.tsv\n",
      "Category.tsv  UserInfo.tsv\t       trainSearchStream.tsv\n",
      "Location.tsv  VisitsStream.tsv\n"
     ]
    }
   ],
   "source": [
    "! ls /mnt/f/avito-kaggle"
   ]
  },
  {
   "cell_type": "code",
   "execution_count": 6,
   "metadata": {},
   "outputs": [],
   "source": [
    "location = pd.read_csv(f'{ROOT_DIR}location.tsv', sep='\\t')\n",
    "user_info = pd.read_csv(f'{ROOT_DIR}userInfo.tsv', sep='\\t')\n",
    "category = pd.read_csv(f'{ROOT_DIR}category.tsv', sep='\\t')"
   ]
  },
  {
   "cell_type": "code",
   "execution_count": 7,
   "metadata": {},
   "outputs": [],
   "source": [
    "ads_info = pd.read_csv(f'{ROOT_DIR}AdsInfo.tsv', sep='\\t', nrows=SAMPLE_SIZE)"
   ]
  },
  {
   "cell_type": "code",
   "execution_count": 8,
   "metadata": {},
   "outputs": [],
   "source": [
    "visits_stream = pd.read_csv(f'{ROOT_DIR}VisitsStream.tsv', sep='\\t', nrows=SAMPLE_SIZE)"
   ]
  },
  {
   "cell_type": "code",
   "execution_count": 9,
   "metadata": {},
   "outputs": [],
   "source": [
    "phone_requests_stream = pd.read_csv(f'{ROOT_DIR}PhoneRequestsStream.tsv', sep='\\t')"
   ]
  },
  {
   "cell_type": "code",
   "execution_count": 10,
   "metadata": {},
   "outputs": [],
   "source": [
    "train_search_stream = pd.read_csv(f'{ROOT_DIR}trainSearchStream.tsv', sep='\\t', nrows=SAMPLE_SIZE)\n",
    "test_search_stream = pd.read_csv(f'{ROOT_DIR}testSearchStream.tsv', sep='\\t', nrows=SAMPLE_SIZE)"
   ]
  },
  {
   "cell_type": "markdown",
   "metadata": {},
   "source": []
  },
  {
   "attachments": {},
   "cell_type": "markdown",
   "metadata": {},
   "source": [
    "## Data analysis\n",
    "\n",
    "### Missing values"
   ]
  },
  {
   "cell_type": "code",
   "execution_count": 11,
   "metadata": {},
   "outputs": [],
   "source": [
    "def show_missing_values(df):\n",
    "    print(df.name)\n",
    "    print(df.isna().sum())\n",
    "    print(f'Total missing values: {df.isna().sum().sum()}\\n')"
   ]
  },
  {
   "cell_type": "code",
   "execution_count": 12,
   "metadata": {},
   "outputs": [],
   "source": [
    "# 8 tables => 9 df (search stream df divided train/test)\n",
    "search_info.name = \"search_info\" #échantillonné\n",
    "location.name = \"location\"\n",
    "user_info.name = \"user_info\"\n",
    "category.name = \"category\"\n",
    "ads_info.name = \"ads_info\" #échantillonné\n",
    "visits_stream.name = \"visits_stream\" #échantillonné\n",
    "phone_requests_stream.name = \"phone_requests_stream\" \n",
    "train_search_stream.name = \"train_search_stream\" #échantillonné\n",
    "test_search_stream.name = \"test_search_stream\" #échantillonné\n",
    "\n",
    "dfs = dict(\n",
    "    search_info = search_info,\n",
    "    location = location, \n",
    "    user_info = user_info, \n",
    "    category = category, \n",
    "    ads_info = ads_info,\n",
    "    visits_stream = visits_stream, \n",
    "    phone_requests_stream = phone_requests_stream, \n",
    "    train_search_stream = train_search_stream, \n",
    "    test_search_stream = test_search_stream\n",
    ")"
   ]
  },
  {
   "cell_type": "code",
   "execution_count": 13,
   "metadata": {},
   "outputs": [
    {
     "name": "stdout",
     "output_type": "stream",
     "text": [
      "search_info\n",
      "SearchID             0\n",
      "SearchDate           0\n",
      "IPID                 0\n",
      "UserID               0\n",
      "IsUserLoggedOn       0\n",
      "SearchQuery       8438\n",
      "LocationID           0\n",
      "CategoryID           0\n",
      "SearchParams      5128\n",
      "dtype: int64\n",
      "Total missing values: 13566\n",
      "\n",
      "location\n",
      "LocationID    0\n",
      "Level         0\n",
      "RegionID      1\n",
      "CityID        1\n",
      "dtype: int64\n",
      "Total missing values: 2\n",
      "\n",
      "user_info\n",
      "UserID               0\n",
      "UserAgentID          0\n",
      "UserAgentOSID        0\n",
      "UserDeviceID         0\n",
      "UserAgentFamilyID    0\n",
      "dtype: int64\n",
      "Total missing values: 0\n",
      "\n",
      "category\n",
      "CategoryID          0\n",
      "Level               0\n",
      "ParentCategoryID    0\n",
      "SubcategoryID       0\n",
      "dtype: int64\n",
      "Total missing values: 0\n",
      "\n",
      "ads_info\n",
      "AdID            0\n",
      "LocationID     12\n",
      "CategoryID      0\n",
      "Params        261\n",
      "Price           0\n",
      "Title           0\n",
      "IsContext       0\n",
      "dtype: int64\n",
      "Total missing values: 273\n",
      "\n",
      "visits_stream\n",
      "UserID      0\n",
      "IPID        0\n",
      "AdID        0\n",
      "ViewDate    0\n",
      "dtype: int64\n",
      "Total missing values: 0\n",
      "\n",
      "phone_requests_stream\n",
      "UserID              0\n",
      "IPID                0\n",
      "AdID                0\n",
      "PhoneRequestDate    0\n",
      "dtype: int64\n",
      "Total missing values: 0\n",
      "\n",
      "train_search_stream\n",
      "SearchID         0\n",
      "AdID             0\n",
      "Position         0\n",
      "ObjectType       0\n",
      "HistCTR       5132\n",
      "IsClick       5132\n",
      "dtype: int64\n",
      "Total missing values: 10264\n",
      "\n",
      "test_search_stream\n",
      "ID               0\n",
      "SearchID         0\n",
      "AdID             0\n",
      "Position         0\n",
      "ObjectType       0\n",
      "HistCTR       5104\n",
      "dtype: int64\n",
      "Total missing values: 5104\n",
      "\n"
     ]
    }
   ],
   "source": [
    "for df in dfs.values():\n",
    "    show_missing_values(df)"
   ]
  },
  {
   "attachments": {},
   "cell_type": "markdown",
   "metadata": {},
   "source": [
    "SEARCH INFO :  \n",
    "Pas de surprise pour ce dataframe les variables searchquery et searchparams présentent des valeurs manquantes. Le reste non  \n",
    "Pour rappel :  \n",
    "- SearchParams dictionary-like structure with optional filters of the search if they were specified while search. NULL otherwise.\n",
    "- SearchQuery - raw query text if it was specified while search. NULL otherwise.\n",
    "\n",
    "LOCATION :\n",
    "2 NA sur une seule ligne"
   ]
  },
  {
   "cell_type": "code",
   "execution_count": 14,
   "metadata": {},
   "outputs": [
    {
     "data": {
      "text/html": [
       "<div>\n",
       "<style scoped>\n",
       "    .dataframe tbody tr th:only-of-type {\n",
       "        vertical-align: middle;\n",
       "    }\n",
       "\n",
       "    .dataframe tbody tr th {\n",
       "        vertical-align: top;\n",
       "    }\n",
       "\n",
       "    .dataframe thead th {\n",
       "        text-align: right;\n",
       "    }\n",
       "</style>\n",
       "<table border=\"1\" class=\"dataframe\">\n",
       "  <thead>\n",
       "    <tr style=\"text-align: right;\">\n",
       "      <th></th>\n",
       "      <th>LocationID</th>\n",
       "      <th>Level</th>\n",
       "      <th>RegionID</th>\n",
       "      <th>CityID</th>\n",
       "    </tr>\n",
       "  </thead>\n",
       "  <tbody>\n",
       "    <tr>\n",
       "      <th>2483</th>\n",
       "      <td>2885</td>\n",
       "      <td>1</td>\n",
       "      <td>NaN</td>\n",
       "      <td>NaN</td>\n",
       "    </tr>\n",
       "  </tbody>\n",
       "</table>\n",
       "</div>"
      ],
      "text/plain": [
       "      LocationID  Level  RegionID  CityID\n",
       "2483        2885      1       NaN     NaN"
      ]
     },
     "execution_count": 14,
     "metadata": {},
     "output_type": "execute_result"
    }
   ],
   "source": [
    "location[location.isna().any(axis=1)] #bizarrement pour cette ligne on a pas de regionID ni de CityID. Pour l'instant je la laisse"
   ]
  },
  {
   "attachments": {},
   "cell_type": "markdown",
   "metadata": {},
   "source": [
    "ADS INFO (échantillonné) :  \n",
    "LocationID présente des valeurs manquante (peu). En revanche sans surprise Params présente de nombreuses valeurs manquantes.  \n",
    "Pour rappel : Params parameters for the context ad in dictionary-like format. NULL for some ads (where no parameters are available). Ex : gender, size , ...  \n",
    "Note that both Params from AdsInfo.tsv and SearchParams from SearchInfo.tsv shares same dictionary (keys and values).\n",
    "=> pas de modifs\n",
    "\n",
    "TRAIN & TEST SEARCH :\n",
    "Only HistCTR qui présente des valeurs manquantes. Parait normal aussi => pas de modifs\n",
    "\n",
    "### Distribution de la variable cible - isClick\n",
    "\n",
    "Essayons de voir si on ne peut pas la charger en entier sans faire planter la RAM"
   ]
  },
  {
   "cell_type": "code",
   "execution_count": 15,
   "metadata": {},
   "outputs": [],
   "source": [
    "#y = pd.read_csv(f'{ROOT_DIR}trainSearchStream.tsv', sep='\\t', usecols=[\"IsClick\"], squeeze=True)"
   ]
  },
  {
   "cell_type": "code",
   "execution_count": 16,
   "metadata": {},
   "outputs": [],
   "source": [
    "def plot_binary_distribution(y):\n",
    "    # Count the number of occurrences of each class in y\n",
    "    class_counts = y.value_counts()\n",
    "\n",
    "    # Get the names of the classes\n",
    "    class_names = class_counts.index\n",
    "\n",
    "    # Set the figure size\n",
    "    plt.figure(figsize=(5,5))\n",
    "\n",
    "    # Create a pie chart to display the distribution of the classes\n",
    "    plt.pie(class_counts, labels=class_names, autopct='%1.1f%%', shadow=True, startangle=90)\n",
    "\n",
    "    # Add a title\n",
    "    plt.title('Distribution of IsClick Variable')\n",
    "\n",
    "    # Display the plot\n",
    "    plt.show()"
   ]
  },
  {
   "cell_type": "code",
   "execution_count": 17,
   "metadata": {},
   "outputs": [],
   "source": [
    "#plot_binary_distribution(y)"
   ]
  },
  {
   "attachments": {},
   "cell_type": "markdown",
   "metadata": {},
   "source": [
    "Jeux de données déséquilibré : => utilisation de métrics spécifiques pour la prédiction. On ne peut pas utiliser l'accuracy ni courbe ROC. On va privilégier le score F1 & courbe Precision / Recall\n",
    "\n",
    "Idée - tout réunir dans une table et évaluer les corrélation avec la variable cible. Pb on a pas de valeurs 1 sur l'échantillons. Impossible de loader un échantillon stratifié \n",
    " \n",
    "\n",
    " ### Analyse sur échantillon \n",
    "\n",
    " Pour rappel ce qu'on veut faire : \n",
    "\n",
    "=> analyser les recherches \n",
    "    quelles recherches sont les + populaires ? \n",
    "    ça implique p-e de traduire les queries\n",
    "\n",
    "=> analyser les ads  \n",
    "    quelles ads sont les + populaires  \n",
    "        + d'impression  \n",
    "        + de clicks\n",
    "Il doit y avoir une forte correlation entre la top add de la recherche et l'ad context \n",
    "    \n",
    "=> analyser les users  \n",
    "    quels utilisateurs font le + de recherche ?  \n",
    "    est-ce qu'on peut dresser des profils d'utilisateurs ? En fonction de leurs envie ?\n",
    "    est-ce que certaines zones ont des profils d'utilisateurs avec des envies spécifiques ? \n",
    " \n",
    "    \n",
    "Traduire : query dans SearchInfos + les categories"
   ]
  },
  {
   "attachments": {},
   "cell_type": "markdown",
   "metadata": {},
   "source": [
    "Traduction des paramètres de recherche (SearchParams):"
   ]
  },
  {
   "cell_type": "code",
   "execution_count": 18,
   "metadata": {},
   "outputs": [
    {
     "name": "stderr",
     "output_type": "stream",
     "text": [
      "/tmp/ipykernel_18663/2247959857.py:3: FutureWarning: The default value of regex will change from True to False in a future version.\n",
      "  s = pd.Series(tmp, dtype=str)\\\n"
     ]
    }
   ],
   "source": [
    "import json\n",
    "tmp = search_info['SearchParams'].drop_duplicates().values\n",
    "s = pd.Series(tmp, dtype=str)\\\n",
    "    .str.replace('\\'', '\\\"')\\\n",
    "    .str.replace(r'({|, )(\\d*)', lambda m: m.group(1) + \"\\\"\" + m.group(2) + \"\\\"\" if m.group(2) else m.group(1))\n",
    "ru_dic_search_params = {}\n",
    "error = []\n",
    "for i, ss in enumerate(s[1:]): #get rid of NA\n",
    "    try: \n",
    "        ru_dic_search_params.update(json.loads(ss))\n",
    "    except:\n",
    "        error.append(ss)"
   ]
  },
  {
   "cell_type": "code",
   "execution_count": 19,
   "metadata": {},
   "outputs": [
    {
     "data": {
      "text/plain": [
       "['{\"797\":\"15\", \"796\":\"Штампованные\", \"709\":\"Диски\", \"799\":\"5\", \"5\":\"Шины, диски и колёса\", \"801\":{from:\"-40\"}, \"800\":\"139.7\"}',\n",
       " '{\"797\":\"16\", \"796\":\"Литые\", \"709\":\"Диски\", \"799\":\"5\", \"798\":\"6.5\", \"5\":\"Шины, диски и колёса\", \"801\":{to:\"50\"}, \"800\":\"112\"}',\n",
       " '{\"797\":\"16\", \"709\":\"Диски\", \"799\":\"6\", \"798\":\"7\", \"5\":\"Шины, диски и колёса\", \"801\":{to:\"-15\", from:\"-15\"}, \"800\":\"139.7\"}',\n",
       " '{\"797\":\"22\", \"709\":\"Диски\", \"799\":\"5\", \"798\":\"9.5\", \"5\":\"Шины, диски и колёса\", \"801\":{to:\"35\"}, \"800\":\"114.3\"}',\n",
       " '{\"797\":\"16\", \"709\":\"Диски\", \"799\":\"5\", \"5\":\"Шины, диски и колёса\", \"801\":{to:\"45\", from:\"37\"}, \"800\":\"114.3\"}',\n",
       " '{\"797\":\"15\", \"796\":\"Литые\", \"709\":\"Диски\", \"799\":\"6\", \"798\":\"7\", \"5\":\"Шины, диски и колёса\", \"801\":{from:\"-10\"}, \"800\":\"139.7\"}']"
      ]
     },
     "execution_count": 19,
     "metadata": {},
     "output_type": "execute_result"
    }
   ],
   "source": [
    "error"
   ]
  },
  {
   "attachments": {},
   "cell_type": "markdown",
   "metadata": {},
   "source": [
    "Toutes ces erreurs sont déjà dans le dict. On va pouvoir le traduire : "
   ]
  },
  {
   "cell_type": "code",
   "execution_count": 20,
   "metadata": {},
   "outputs": [],
   "source": [
    "tr = Translator()\n",
    "fr_dic_search_params = {}\n",
    "for ru_key, ru_value in ru_dic_search_params.items():\n",
    "    fr_dic_search_params[ru_key] = tr.translate(ru_value, src='ru', dest='fr').text"
   ]
  },
  {
   "cell_type": "code",
   "execution_count": 21,
   "metadata": {},
   "outputs": [],
   "source": [
    "tmp = search_info['SearchParams'].dropna().reset_index(drop=True)"
   ]
  },
  {
   "cell_type": "code",
   "execution_count": 22,
   "metadata": {},
   "outputs": [
    {
     "name": "stderr",
     "output_type": "stream",
     "text": [
      "/tmp/ipykernel_18663/293331707.py:1: FutureWarning: The default value of regex will change from True to False in a future version.\n",
      "  s = pd.Series(search_info['SearchParams'], dtype=str)\\\n"
     ]
    }
   ],
   "source": [
    "s = pd.Series(search_info['SearchParams'], dtype=str)\\\n",
    "    .str.replace('\\'', '\\\"')\\\n",
    "    .str.replace(r'({|, )(\\d*)', lambda m: m.group(1) + \"\\\"\" + m.group(2) + \"\\\"\" if m.group(2) else m.group(1))"
   ]
  },
  {
   "cell_type": "code",
   "execution_count": 23,
   "metadata": {},
   "outputs": [],
   "source": [
    "s_result = pd.Series([np.nan]*len(s))\n",
    "for i, ss in enumerate(s):\n",
    "    try:\n",
    "        tmp = json.loads(ss)\n",
    "        dic = {}\n",
    "        for key in tmp.keys():\n",
    "            dic[key] = fr_dic_search_params[key]\n",
    "        s_result[i] = str(dic)\n",
    "    except:\n",
    "        pass"
   ]
  },
  {
   "cell_type": "code",
   "execution_count": 24,
   "metadata": {},
   "outputs": [],
   "source": [
    "search_info['frSearchParams'] = s_result"
   ]
  },
  {
   "attachments": {},
   "cell_type": "markdown",
   "metadata": {},
   "source": [
    "Translating SearchQuery"
   ]
  },
  {
   "cell_type": "code",
   "execution_count": 25,
   "metadata": {},
   "outputs": [],
   "source": [
    "# As this line text 6 minutes to run, we will simply load the saved serie \n",
    "# # (in case we need to restart the kernel)\n",
    "#tmp = search_info['SearchQuery'].dropna().apply(lambda s: tr.translate(s, dest='fr').text)\n",
    "# search_info['frSearchQuery'] = pd.Series([np.nan]*search_info.shape[0])\n",
    "# search_info['frSearchQuery'][tmp.index] = tmp\n",
    "##substitut\n",
    "search_info['frSearchQuery'] = pd.read_csv('saved_data/frSearchQuery.csv', squeeze=True, index_col=0)"
   ]
  },
  {
   "cell_type": "code",
   "execution_count": 26,
   "metadata": {},
   "outputs": [],
   "source": [
    "# on trad aussi en anglais vu que les algo de NER ont plus de labels dans ce langage\n",
    "#tmp = search_info['SearchQuery'].dropna().apply(lambda s: tr.translate(s, dest='en').text)\n",
    "search_info['enSearchQuery'] = pd.read_csv('saved_data/enSearchQuery.csv', squeeze=True, index_col=0)"
   ]
  },
  {
   "cell_type": "code",
   "execution_count": 27,
   "metadata": {},
   "outputs": [],
   "source": [
    "# search_info['enSearchQuery'] = pd.Series([np.nan]*search_info.shape[0])\n",
    "# search_info['enSearchQuery'][tmp.index] = tmp"
   ]
  },
  {
   "attachments": {},
   "cell_type": "markdown",
   "metadata": {},
   "source": [
    "Traduction terminée, on va pouvoir voir quelles sont les recherches les plus populaires et ainsi que les paramètres les plus populaires  \n",
    "\n",
    "**Recherches les + populaires**"
   ]
  },
  {
   "cell_type": "code",
   "execution_count": 28,
   "metadata": {},
   "outputs": [
    {
     "name": "stdout",
     "output_type": "stream",
     "text": [
      "Il y a 8438 valeurs manquantes    ce qui représente 84.38 %\n"
     ]
    },
    {
     "data": {
      "text/plain": [
       "vélo                 42\n",
       "canapé               25\n",
       "poussette            22\n",
       "sac                  20\n",
       "poussettes           20\n",
       "des chaussures       18\n",
       "baskets              17\n",
       "Ceci est un vélo     14\n",
       "des sandales         13\n",
       "table                12\n",
       "robe                 12\n",
       "réfrigérateur        12\n",
       "uaz                   9\n",
       "vases                 9\n",
       "sur le vase           9\n",
       "trottinette           8\n",
       "iphone 6              8\n",
       "iphone                8\n",
       "je donnerai           8\n",
       "vélo pour enfants     8\n",
       "Name: frSearchQuery, dtype: int64"
      ]
     },
     "execution_count": 28,
     "metadata": {},
     "output_type": "execute_result"
    }
   ],
   "source": [
    "print(f'Il y a {search_info[\"frSearchQuery\"].isna().sum()} valeurs manquantes\\\n",
    "    ce qui représente {search_info[\"frSearchQuery\"].isna().sum()/len(search_info)*100} %')\n",
    "search_info['frSearchQuery'].value_counts()[:20] #20 recherches les plus prisées"
   ]
  },
  {
   "cell_type": "code",
   "execution_count": 29,
   "metadata": {},
   "outputs": [],
   "source": [
    "search_info['frSearchQuery'].drop_duplicates().dropna().to_csv(\"queries.txt\")"
   ]
  },
  {
   "attachments": {},
   "cell_type": "markdown",
   "metadata": {},
   "source": [
    "Question : comment regrouper certaines query dans des catégories plus importantes pour faire émerger de l'information ? Ex : \"vélo\", \"vélo\", \"vélo électrique\", \"BMX\" ?\n",
    "\n",
    "==> NLP : name entity recognition ? Spacy ?"
   ]
  },
  {
   "cell_type": "code",
   "execution_count": 30,
   "metadata": {},
   "outputs": [
    {
     "data": {
      "image/png": "[encoded data removed]",
      "text/plain": [
       "<Figure size 640x480 with 1 Axes>"
      ]
     },
     "metadata": {},
     "output_type": "display_data"
    }
   ],
   "source": [
    "tmp = search_info['frSearchQuery'].value_counts()[:30]\n",
    "sns.barplot(x=tmp, y = tmp.index) ; "
   ]
  },
  {
   "attachments": {},
   "cell_type": "markdown",
   "metadata": {},
   "source": [
    "Ex : on voit bien que \"vélo pour enfants\" et \"vélo\" par exemple concernent la même recherche \"vélo\"\n",
    "\n",
    "NER  \n",
    "https://spacy.io/usage/linguistic-features  => Named entity recognition 101\n",
    "\n",
    "A named entity is a “real-world object” that’s assigned a name – for example, a person, a country, a product or a book title. spaCy can recognize various types of named entities in a document, by asking the model for a prediction\n"
   ]
  },
  {
   "cell_type": "code",
   "execution_count": 31,
   "metadata": {},
   "outputs": [],
   "source": [
    "#! python -m spacy download fr_core_news_sm"
   ]
  },
  {
   "cell_type": "code",
   "execution_count": 32,
   "metadata": {},
   "outputs": [],
   "source": [
    "import spacy\n",
    "\n",
    "##French pipeline\n",
    "# nlp= spacy.load(\"fr_core_news_sm\")\n",
    "# def show_entities(s):\n",
    "#     doc = nlp(s)\n",
    "#     for ent in doc.ents:\n",
    "#         print(ent.text, ent.start_char, ent.end_char, ent.label_)\n",
    "\n",
    "\n",
    "#en pipeline \n",
    "nlp = spacy.load('en_core_web_sm')"
   ]
  },
  {
   "cell_type": "code",
   "execution_count": 33,
   "metadata": {},
   "outputs": [
    {
     "name": "stdout",
     "output_type": "stream",
     "text": [
      "CARDINAL Numerals that do not fall under another type\n",
      "DATE Absolute or relative dates or periods\n",
      "EVENT Named hurricanes, battles, wars, sports events, etc.\n",
      "FAC Buildings, airports, highways, bridges, etc.\n",
      "GPE Countries, cities, states\n",
      "LANGUAGE Any named language\n",
      "LAW Named documents made into laws.\n",
      "LOC Non-GPE locations, mountain ranges, bodies of water\n",
      "MONEY Monetary values, including unit\n",
      "NORP Nationalities or religious or political groups\n",
      "ORDINAL \"first\", \"second\", etc.\n",
      "ORG Companies, agencies, institutions, etc.\n",
      "PERCENT Percentage, including \"%\"\n",
      "PERSON People, including fictional\n",
      "PRODUCT Objects, vehicles, foods, etc. (not services)\n",
      "QUANTITY Measurements, as of weight or distance\n",
      "TIME Times smaller than a day\n",
      "WORK_OF_ART Titles of books, songs, etc.\n"
     ]
    }
   ],
   "source": [
    "for i in [\"CARDINAL\", \"DATE\", \"EVENT\", \"FAC\", \"GPE\", \n",
    "\"LANGUAGE\", \"LAW\", \"LOC\", \"MONEY\", \"NORP\", \"ORDINAL\", \"ORG\", \n",
    "\"PERCENT\", \"PERSON\", \"PRODUCT\", \"QUANTITY\", \"TIME\", \"WORK_OF_ART\"]:\n",
    "    print(i, spacy.explain(i))"
   ]
  },
  {
   "cell_type": "code",
   "execution_count": 34,
   "metadata": {},
   "outputs": [
    {
     "data": {
      "text/plain": [
       "bicycle              42\n",
       "sofa                 25\n",
       "stroller             22\n",
       "bag                  20\n",
       "shoes                18\n",
       "sneakers             17\n",
       "baby carriages       15\n",
       "This is a bicycle    14\n",
       "sandals              13\n",
       "dress                12\n",
       "Name: enSearchQuery, dtype: int64"
      ]
     },
     "execution_count": 34,
     "metadata": {},
     "output_type": "execute_result"
    }
   ],
   "source": [
    "search_info['enSearchQuery'].dropna().value_counts()[:10]"
   ]
  },
  {
   "cell_type": "code",
   "execution_count": 35,
   "metadata": {},
   "outputs": [
    {
     "name": "stdout",
     "output_type": "stream",
     "text": [
      "{'query': 'Chevrolet Cruze', 'ents': [['Chevrolet', 0, 9, 'ORG'], ['Cruze', 10, 15, 'PRODUCT']]}\n",
      "{'query': 'ford focus 1', 'ents': [['ford', 0, 4, 'ORG'], ['1', 11, 12, 'CARDINAL']]}\n",
      "{'query': 'sony xperia', 'ents': [['sony', 0, 4, 'ORG'], ['xperia', 5, 11, 'GPE']]}\n",
      "{'query': 'ford focus 2', 'ents': [['ford', 0, 4, 'ORG'], ['2', 11, 12, 'CARDINAL']]}\n",
      "{'query': 'ford focus 2', 'ents': [['ford', 0, 4, 'ORG'], ['2', 11, 12, 'CARDINAL']]}\n",
      "{'query': 'Chevrolet Lacetti', 'ents': [['Chevrolet', 0, 9, 'ORG'], ['Lacetti', 10, 17, 'PRODUCT']]}\n",
      "{'query': 'Chevrolet Cruze', 'ents': [['Chevrolet', 0, 9, 'ORG'], ['Cruze', 10, 15, 'PRODUCT']]}\n",
      "{'query': 'toyota rav 4', 'ents': [['toyota', 0, 6, 'ORG'], ['4', 11, 12, 'CARDINAL']]}\n",
      "{'query': 'Chevrolet Cruze', 'ents': [['Chevrolet', 0, 9, 'ORG'], ['Cruze', 10, 15, 'PRODUCT']]}\n",
      "{'query': 'apple iphone 5s 32gb', 'ents': [['5s', 13, 15, 'CARDINAL'], ['32', 16, 18, 'CARDINAL']]}\n",
      "{'query': 'honda cr v', 'ents': [['honda', 0, 5, 'ORG'], ['cr v', 6, 10, 'PERSON']]}\n",
      "{'query': 'ford focus 2', 'ents': [['ford', 0, 4, 'ORG'], ['2', 11, 12, 'CARDINAL']]}\n",
      "{'query': 'Mazda 6', 'ents': [['Mazda', 0, 5, 'ORG'], ['6', 6, 7, 'CARDINAL']]}\n",
      "{'query': 'samsung galaxy note 4', 'ents': [['samsung', 0, 7, 'ORG'], ['4', 20, 21, 'CARDINAL']]}\n",
      "{'query': 'ford focus 2 air filter housing', 'ents': [['ford', 0, 4, 'ORG'], ['2', 11, 12, 'CARDINAL']]}\n",
      "{'query': 'sony xperia tablet z2', 'ents': [['sony', 0, 4, 'ORG'], ['xperia tablet z2', 5, 21, 'PERSON']]}\n",
      "{'query': 'samsung note 4', 'ents': [['samsung', 0, 7, 'ORG'], ['4', 13, 14, 'CARDINAL']]}\n",
      "{'query': 'canon eos 600d', 'ents': [['eos', 6, 9, 'ORG'], ['600d', 10, 14, 'PRODUCT']]}\n",
      "{'query': 'ford focus 2', 'ents': [['ford', 0, 4, 'ORG'], ['2', 11, 12, 'CARDINAL']]}\n",
      "{'query': 'threshold ford focus 2', 'ents': [['ford', 10, 14, 'ORG'], ['2', 21, 22, 'CARDINAL']]}\n",
      "{'query': 'ipad 2 wi-fi 3g', 'ents': [['2', 5, 6, 'CARDINAL'], ['3', 13, 14, 'CARDINAL']]}\n",
      "{'query': 'sony xperia tablet z3', 'ents': [['sony', 0, 4, 'ORG'], ['xperia tablet', 5, 18, 'PERSON']]}\n",
      "{'query': 'samsung galaxy s6 edge', 'ents': [['samsung', 0, 7, 'ORG'], ['s6 edge', 15, 22, 'PERSON']]}\n",
      "{'query': 'sony xperia z1', 'ents': [['sony', 0, 4, 'ORG'], ['xperia', 5, 11, 'GPE']]}\n",
      "{'query': 'chevrolet cruze rear bumper', 'ents': [['chevrolet', 0, 9, 'ORG'], ['cruze', 10, 15, 'PRODUCT']]}\n",
      "{'query': 'sony xperia z3', 'ents': [['sony', 0, 4, 'ORG'], ['xperia z3', 5, 14, 'ORG']]}\n",
      "{'query': 'xbox one games', 'ents': [['xbox', 0, 4, 'PERSON'], ['one', 5, 8, 'CARDINAL']]}\n",
      "{'query': 'samsung galaxy note 4', 'ents': [['samsung', 0, 7, 'ORG'], ['4', 20, 21, 'CARDINAL']]}\n",
      "{'query': 'Toyota Avensis', 'ents': [['Toyota', 0, 6, 'ORG'], ['Avensis', 7, 14, 'PRODUCT']]}\n",
      "{'query': 'Chevrolet Lacetti', 'ents': [['Chevrolet', 0, 9, 'ORG'], ['Lacetti', 10, 17, 'PRODUCT']]}\n",
      "{'query': 'toyota land cruiser prado 150', 'ents': [['toyota', 0, 6, 'ORG'], ['150', 26, 29, 'CARDINAL']]}\n",
      "{'query': 'ford focus 2', 'ents': [['ford', 0, 4, 'ORG'], ['2', 11, 12, 'CARDINAL']]}\n",
      "{'query': 'Mazda 6', 'ents': [['Mazda', 0, 5, 'ORG'], ['6', 6, 7, 'CARDINAL']]}\n",
      "{'query': 'sony playstation 3', 'ents': [['sony', 0, 4, 'ORG'], ['3', 17, 18, 'CARDINAL']]}\n",
      "{'query': 'toyota land cruiser', 'ents': [['toyota', 0, 6, 'ORG'], ['cruiser', 12, 19, 'ORG']]}\n",
      "{'query': 'xbox one', 'ents': [['xbox', 0, 4, 'PERSON'], ['one', 5, 8, 'CARDINAL']]}\n",
      "{'query': 'nokia 730', 'ents': [['nokia', 0, 5, 'ORG'], ['730', 6, 9, 'CARDINAL']]}\n",
      "{'query': 'sony playstation 4', 'ents': [['sony', 0, 4, 'ORG'], ['4', 17, 18, 'CARDINAL']]}\n",
      "{'query': 'sony playstation 3 super slim 500gb', 'ents': [['sony', 0, 4, 'ORG'], ['3', 17, 18, 'CARDINAL'], ['500', 30, 33, 'CARDINAL']]}\n",
      "{'query': 'ford focus 3', 'ents': [['ford', 0, 4, 'ORG'], ['3', 11, 12, 'CARDINAL']]}\n",
      "{'query': 'toyota land cruiser 200', 'ents': [['toyota', 0, 6, 'ORG'], ['200', 20, 23, 'CARDINAL']]}\n",
      "{'query': 'Nokia Lumia 1520', 'ents': [['Nokia Lumia', 0, 11, 'PERSON'], ['1520', 12, 16, 'DATE']]}\n",
      "{'query': 'toyota avensis', 'ents': [['toyota', 0, 6, 'ORG'], ['avensis', 7, 14, 'PRODUCT']]}\n",
      "{'query': 'samsung galaxy note 4', 'ents': [['samsung', 0, 7, 'ORG'], ['4', 20, 21, 'CARDINAL']]}\n",
      "{'query': 'sony ps3', 'ents': [['sony', 0, 4, 'ORG'], ['ps3', 5, 8, 'ORG']]}\n"
     ]
    }
   ],
   "source": [
    "#spacy good practises\n",
    "# BAD : docs = [nlp(text) for text in LOTS_OF_TEXTS]\n",
    "# GOOD : docs = list(nlp.pipe(LOTS_OF_TEXTS))\n",
    "tmp = search_info['enSearchQuery'].dropna()\n",
    "data = [(value, context) for value, context in zip(tmp.values, tmp.index)]\n",
    "result = []\n",
    "for doc, context in nlp.pipe(data, as_tuples=True):\n",
    "    tmp = {'query': doc.text, 'ents':[[ent.text, ent.start_char, ent.end_char, ent.label_] for ent in doc.ents]}\n",
    "    result.append([doc.text] + [[ent.text, ent.start_char, ent.end_char, ent.label_] for ent in doc.ents])\n",
    "    if len(tmp['ents']) > 1:\n",
    "        print(tmp)"
   ]
  },
  {
   "attachments": {},
   "cell_type": "markdown",
   "metadata": {},
   "source": [
    "We see that in this particular case Spacy isn't working properly at recognizing entities ..."
   ]
  },
  {
   "cell_type": "code",
   "execution_count": 36,
   "metadata": {},
   "outputs": [
    {
     "data": {
      "text/plain": [
       "ORG         172\n",
       "CARDINAL    103\n",
       "PERSON       57\n",
       "PRODUCT      18\n",
       "GPE          17\n",
       "DATE         10\n",
       "TIME          4\n",
       "NORP          1\n",
       "MONEY         1\n",
       "FAC           1\n",
       "dtype: int64"
      ]
     },
     "execution_count": 36,
     "metadata": {},
     "output_type": "execute_result"
    }
   ],
   "source": [
    "l = []\n",
    "for doc, context in nlp.pipe(data, as_tuples=True):\n",
    "    l.append([ent.label_ for ent in doc.ents])\n",
    "s = pd.Series([x for sublist in l for x in sublist])\n",
    "s.value_counts()"
   ]
  },
  {
   "attachments": {},
   "cell_type": "markdown",
   "metadata": {},
   "source": [
    "Pas très pertinent sachant qu'à mon avis on a quasiment aucun nom propre dans les recherches"
   ]
  },
  {
   "attachments": {},
   "cell_type": "markdown",
   "metadata": {},
   "source": [
    "**Paramètres les plus populaires** \n",
    "\n",
    "On vuet pouvoir avoir un dictionnaire plutot qu'une chaine de caractères pour chaque ligne. \n",
    "=> json.loads mais il faut remplacer les ' par les \"  \n",
    "Attention pas tous ex :  \n",
    "{\"175\": 'Vêtements pour femmes'} #normal  \n",
    "{'45': \"Objets d'intérieur, art\"} #apostrophe dans le text  \n",
    "{'487': 'fers', '48': 'Autre'} #ici les valeurs ne sont pas entre \"\""
   ]
  },
  {
   "cell_type": "code",
   "execution_count": 148,
   "metadata": {},
   "outputs": [],
   "source": [
    "def search_params_to_dict(col):\n",
    "    \"\"\"\n",
    "    Transform a pd.Series of unstrustured strings into a list of dict\n",
    "    \"\"\"\n",
    "    tmp = col.dropna()\n",
    "    strings_of_params = tmp.str.replace(r'(?<={)\\'', '\\\"', regex=True)\\\n",
    "        .str.replace(r'\\'(?=})', '\\\"', regex=True) \\\n",
    "        .str.replace(r'\\'(?=\\:)', '\\\"', regex=True)\\\n",
    "        .str.replace(r'(?<=\\,\\s)\\'', '\\\"', regex=True) \\\n",
    "        .str.replace(r'(?<=:\\s)\\'', '\\\"', regex=True) \\\n",
    "        .str.replace(r'\\'(?=,)', '\\\"', regex=True)\n",
    "    list_dicts_params = []\n",
    "    for string in strings_of_params:\n",
    "        list_dicts_params.append(json.loads(string))\n",
    "    return list_dicts_params\n",
    "\n",
    "list_dicts_params = search_params_to_dict(search_info['frSearchParams'])"
   ]
  },
  {
   "cell_type": "code",
   "execution_count": 145,
   "metadata": {},
   "outputs": [],
   "source": [
    "#count the most frequent categories \n",
    "from collections import defaultdict\n",
    "\n",
    "params_count = defaultdict(int)\n",
    "\n",
    "for dic in list_dicts_params:\n",
    "    for v in dic.values():\n",
    "        params_count[v] += 1\n",
    "\n",
    "df = pd.DataFrame(params_count.items(), columns=['nameOfParam', 'count']).sort_values(by='count', ascending=False)"
   ]
  },
  {
   "cell_type": "code",
   "execution_count": 146,
   "metadata": {},
   "outputs": [
    {
     "data": {
      "text/plain": [
       "<AxesSubplot:xlabel='count', ylabel='nameOfParam'>"
      ]
     },
     "execution_count": 146,
     "metadata": {},
     "output_type": "execute_result"
    },
    {
     "data": {
      "image/png": "[encoded data removed]",
      "text/plain": [
       "<Figure size 640x480 with 1 Axes>"
      ]
     },
     "metadata": {},
     "output_type": "display_data"
    }
   ],
   "source": [
    "sns.barplot(x='count',y='nameOfParam', data=df[:20])"
   ]
  },
  {
   "attachments": {},
   "cell_type": "markdown",
   "metadata": {},
   "source": [
    "Sur cet échantillon les catégories les plus recherchées sont donc les vêtements pour femmes, les pneus jantes etc, et les robes de mariée.\n",
    "\n",
    "=> les ads en lien avec une de ces catégories doit fortement augmenter la probabilité que la personne clique sur une ad de manière absolue. Après c'est pas spécifique, si l'on propose des vêtements pour femmes à un homme ça réduit largement la proba. Anyway, la variable Params doit avoir un fort lien avec la variable cible (2 var qualitative => pour tester on pourrait faire un test du chi2)"
   ]
  },
  {
   "attachments": {},
   "cell_type": "markdown",
   "metadata": {},
   "source": [
    "#### Analyser les ads\n",
    "\n",
    "=> analyser les ads  \n",
    "    quelles ads sont les + populaires  \n",
    "        + d'impression  \n",
    "        + de clicks\n",
    "Il doit y avoir une forte correlation entre la top add de la recherche et l'ad context "
   ]
  },
  {
   "cell_type": "code",
   "execution_count": 41,
   "metadata": {},
   "outputs": [
    {
     "name": "stderr",
     "output_type": "stream",
     "text": [
      "/home/francois/miniconda3/envs/datascience/lib/python3.8/site-packages/seaborn/_decorators.py:36: FutureWarning: Pass the following variable as a keyword arg: x. From version 0.12, the only valid positional argument will be `data`, and passing other arguments without an explicit keyword will result in an error or misinterpretation.\n",
      "  warnings.warn(\n"
     ]
    },
    {
     "data": {
      "text/plain": [
       "<AxesSubplot:xlabel='IsClick', ylabel='HistCTR'>"
      ]
     },
     "execution_count": 41,
     "metadata": {},
     "output_type": "execute_result"
    },
    {
     "data": {
      "image/png": "[encoded data removed]",
      "text/plain": [
       "<Figure size 640x480 with 1 Axes>"
      ]
     },
     "metadata": {},
     "output_type": "display_data"
    }
   ],
   "source": [
    "sns.boxplot('IsClick', y='HistCTR', data=train_search_stream.loc[train_search_stream.HistCTR < 0.05, :])"
   ]
  },
  {
   "attachments": {},
   "cell_type": "markdown",
   "metadata": {},
   "source": [
    "Il y a donc une différence. Mais est-elle significative ? Différence de moyenne entre 2 groupes => test de student ! "
   ]
  },
  {
   "cell_type": "code",
   "execution_count": 42,
   "metadata": {},
   "outputs": [],
   "source": [
    "# il y a donc une \n",
    "\n",
    "tmp0 = train_search_stream.loc[train_search_stream.IsClick == 0]\n",
    "tmp1 = train_search_stream.loc[train_search_stream.IsClick == 1]"
   ]
  },
  {
   "cell_type": "code",
   "execution_count": 43,
   "metadata": {},
   "outputs": [
    {
     "data": {
      "text/html": [
       "<div>\n",
       "<style scoped>\n",
       "    .dataframe tbody tr th:only-of-type {\n",
       "        vertical-align: middle;\n",
       "    }\n",
       "\n",
       "    .dataframe tbody tr th {\n",
       "        vertical-align: top;\n",
       "    }\n",
       "\n",
       "    .dataframe thead th {\n",
       "        text-align: right;\n",
       "    }\n",
       "</style>\n",
       "<table border=\"1\" class=\"dataframe\">\n",
       "  <thead>\n",
       "    <tr style=\"text-align: right;\">\n",
       "      <th></th>\n",
       "      <th>SearchID</th>\n",
       "      <th>AdID</th>\n",
       "      <th>Position</th>\n",
       "      <th>ObjectType</th>\n",
       "      <th>HistCTR</th>\n",
       "      <th>IsClick</th>\n",
       "    </tr>\n",
       "  </thead>\n",
       "  <tbody>\n",
       "    <tr>\n",
       "      <th>1960</th>\n",
       "      <td>568</td>\n",
       "      <td>5866465</td>\n",
       "      <td>1</td>\n",
       "      <td>3</td>\n",
       "      <td>0.100213</td>\n",
       "      <td>0.0</td>\n",
       "    </tr>\n",
       "    <tr>\n",
       "      <th>2011</th>\n",
       "      <td>582</td>\n",
       "      <td>22602336</td>\n",
       "      <td>1</td>\n",
       "      <td>3</td>\n",
       "      <td>0.114568</td>\n",
       "      <td>0.0</td>\n",
       "    </tr>\n",
       "    <tr>\n",
       "      <th>2330</th>\n",
       "      <td>679</td>\n",
       "      <td>33353737</td>\n",
       "      <td>1</td>\n",
       "      <td>3</td>\n",
       "      <td>0.123796</td>\n",
       "      <td>0.0</td>\n",
       "    </tr>\n",
       "    <tr>\n",
       "      <th>4001</th>\n",
       "      <td>1183</td>\n",
       "      <td>34154066</td>\n",
       "      <td>1</td>\n",
       "      <td>3</td>\n",
       "      <td>0.207862</td>\n",
       "      <td>0.0</td>\n",
       "    </tr>\n",
       "    <tr>\n",
       "      <th>5547</th>\n",
       "      <td>1632</td>\n",
       "      <td>25972884</td>\n",
       "      <td>1</td>\n",
       "      <td>3</td>\n",
       "      <td>0.231168</td>\n",
       "      <td>1.0</td>\n",
       "    </tr>\n",
       "    <tr>\n",
       "      <th>6750</th>\n",
       "      <td>1978</td>\n",
       "      <td>36722591</td>\n",
       "      <td>1</td>\n",
       "      <td>3</td>\n",
       "      <td>0.111687</td>\n",
       "      <td>0.0</td>\n",
       "    </tr>\n",
       "    <tr>\n",
       "      <th>7221</th>\n",
       "      <td>2117</td>\n",
       "      <td>2757837</td>\n",
       "      <td>1</td>\n",
       "      <td>3</td>\n",
       "      <td>0.135928</td>\n",
       "      <td>0.0</td>\n",
       "    </tr>\n",
       "    <tr>\n",
       "      <th>7231</th>\n",
       "      <td>2120</td>\n",
       "      <td>34154066</td>\n",
       "      <td>1</td>\n",
       "      <td>3</td>\n",
       "      <td>0.207862</td>\n",
       "      <td>0.0</td>\n",
       "    </tr>\n",
       "    <tr>\n",
       "      <th>7698</th>\n",
       "      <td>2256</td>\n",
       "      <td>4104382</td>\n",
       "      <td>1</td>\n",
       "      <td>3</td>\n",
       "      <td>0.129411</td>\n",
       "      <td>0.0</td>\n",
       "    </tr>\n",
       "    <tr>\n",
       "      <th>8694</th>\n",
       "      <td>2556</td>\n",
       "      <td>13666723</td>\n",
       "      <td>1</td>\n",
       "      <td>3</td>\n",
       "      <td>0.135928</td>\n",
       "      <td>0.0</td>\n",
       "    </tr>\n",
       "  </tbody>\n",
       "</table>\n",
       "</div>"
      ],
      "text/plain": [
       "      SearchID      AdID  Position  ObjectType   HistCTR  IsClick\n",
       "1960       568   5866465         1           3  0.100213      0.0\n",
       "2011       582  22602336         1           3  0.114568      0.0\n",
       "2330       679  33353737         1           3  0.123796      0.0\n",
       "4001      1183  34154066         1           3  0.207862      0.0\n",
       "5547      1632  25972884         1           3  0.231168      1.0\n",
       "6750      1978  36722591         1           3  0.111687      0.0\n",
       "7221      2117   2757837         1           3  0.135928      0.0\n",
       "7231      2120  34154066         1           3  0.207862      0.0\n",
       "7698      2256   4104382         1           3  0.129411      0.0\n",
       "8694      2556  13666723         1           3  0.135928      0.0"
      ]
     },
     "execution_count": 43,
     "metadata": {},
     "output_type": "execute_result"
    }
   ],
   "source": [
    "# on dirait qu'il y a des outliers\n",
    "train_search_stream.loc[train_search_stream.HistCTR > 0.1, ]"
   ]
  },
  {
   "attachments": {},
   "cell_type": "markdown",
   "metadata": {},
   "source": [
    "Ca pourrait être intéressant de voir quels sont ces outliers ? Ca implique d'avoir l'ads correspondant cependant ça coince vu qu'on a pas ads en entier => (spark ?)\n",
    "\n",
    "\n",
    "\n",
    "Suite de l'analyse : \n",
    "\n",
    "=> analyser les users  \n",
    "    quels utilisateurs font le + de recherche ?  \n",
    "    est-ce qu'on peut dresser des profils d'utilisateurs ? En fonction de leurs envie ?\n",
    "    est-ce que certaines zones ont des profils d'utilisateurs avec des envies spécifiques ? \n"
   ]
  },
  {
   "cell_type": "code",
   "execution_count": 44,
   "metadata": {},
   "outputs": [
    {
     "data": {
      "text/html": [
       "<div>\n",
       "<style scoped>\n",
       "    .dataframe tbody tr th:only-of-type {\n",
       "        vertical-align: middle;\n",
       "    }\n",
       "\n",
       "    .dataframe tbody tr th {\n",
       "        vertical-align: top;\n",
       "    }\n",
       "\n",
       "    .dataframe thead th {\n",
       "        text-align: right;\n",
       "    }\n",
       "</style>\n",
       "<table border=\"1\" class=\"dataframe\">\n",
       "  <thead>\n",
       "    <tr style=\"text-align: right;\">\n",
       "      <th></th>\n",
       "      <th>UserID</th>\n",
       "      <th>UserAgentID</th>\n",
       "      <th>UserAgentOSID</th>\n",
       "      <th>UserDeviceID</th>\n",
       "      <th>UserAgentFamilyID</th>\n",
       "    </tr>\n",
       "  </thead>\n",
       "  <tbody>\n",
       "    <tr>\n",
       "      <th>0</th>\n",
       "      <td>1</td>\n",
       "      <td>44073</td>\n",
       "      <td>30</td>\n",
       "      <td>2019</td>\n",
       "      <td>9</td>\n",
       "    </tr>\n",
       "    <tr>\n",
       "      <th>1</th>\n",
       "      <td>2</td>\n",
       "      <td>12505</td>\n",
       "      <td>20</td>\n",
       "      <td>2014</td>\n",
       "      <td>85</td>\n",
       "    </tr>\n",
       "    <tr>\n",
       "      <th>2</th>\n",
       "      <td>3</td>\n",
       "      <td>24256</td>\n",
       "      <td>20</td>\n",
       "      <td>2014</td>\n",
       "      <td>64</td>\n",
       "    </tr>\n",
       "    <tr>\n",
       "      <th>3</th>\n",
       "      <td>4</td>\n",
       "      <td>57133</td>\n",
       "      <td>20</td>\n",
       "      <td>2014</td>\n",
       "      <td>25</td>\n",
       "    </tr>\n",
       "    <tr>\n",
       "      <th>4</th>\n",
       "      <td>5</td>\n",
       "      <td>57133</td>\n",
       "      <td>20</td>\n",
       "      <td>2014</td>\n",
       "      <td>25</td>\n",
       "    </tr>\n",
       "    <tr>\n",
       "      <th>...</th>\n",
       "      <td>...</td>\n",
       "      <td>...</td>\n",
       "      <td>...</td>\n",
       "      <td>...</td>\n",
       "      <td>...</td>\n",
       "    </tr>\n",
       "    <tr>\n",
       "      <th>4284818</th>\n",
       "      <td>4339857</td>\n",
       "      <td>7075</td>\n",
       "      <td>20</td>\n",
       "      <td>2014</td>\n",
       "      <td>62</td>\n",
       "    </tr>\n",
       "    <tr>\n",
       "      <th>4284819</th>\n",
       "      <td>4339858</td>\n",
       "      <td>1393</td>\n",
       "      <td>30</td>\n",
       "      <td>2019</td>\n",
       "      <td>9</td>\n",
       "    </tr>\n",
       "    <tr>\n",
       "      <th>4284820</th>\n",
       "      <td>4339859</td>\n",
       "      <td>57133</td>\n",
       "      <td>20</td>\n",
       "      <td>2014</td>\n",
       "      <td>25</td>\n",
       "    </tr>\n",
       "    <tr>\n",
       "      <th>4284821</th>\n",
       "      <td>4339860</td>\n",
       "      <td>63091</td>\n",
       "      <td>20</td>\n",
       "      <td>2014</td>\n",
       "      <td>25</td>\n",
       "    </tr>\n",
       "    <tr>\n",
       "      <th>4284822</th>\n",
       "      <td>4339861</td>\n",
       "      <td>57133</td>\n",
       "      <td>20</td>\n",
       "      <td>2014</td>\n",
       "      <td>25</td>\n",
       "    </tr>\n",
       "  </tbody>\n",
       "</table>\n",
       "<p>4284823 rows × 5 columns</p>\n",
       "</div>"
      ],
      "text/plain": [
       "          UserID  UserAgentID  UserAgentOSID  UserDeviceID  UserAgentFamilyID\n",
       "0              1        44073             30          2019                  9\n",
       "1              2        12505             20          2014                 85\n",
       "2              3        24256             20          2014                 64\n",
       "3              4        57133             20          2014                 25\n",
       "4              5        57133             20          2014                 25\n",
       "...          ...          ...            ...           ...                ...\n",
       "4284818  4339857         7075             20          2014                 62\n",
       "4284819  4339858         1393             30          2019                  9\n",
       "4284820  4339859        57133             20          2014                 25\n",
       "4284821  4339860        63091             20          2014                 25\n",
       "4284822  4339861        57133             20          2014                 25\n",
       "\n",
       "[4284823 rows x 5 columns]"
      ]
     },
     "execution_count": 44,
     "metadata": {},
     "output_type": "execute_result"
    }
   ],
   "source": [
    "user_info"
   ]
  },
  {
   "attachments": {},
   "cell_type": "markdown",
   "metadata": {},
   "source": [
    "Est-ce que le navigateur ou le type de device a une influence sur le fait que la personne clique ? Possible au final. A un browser correspond un affichage spécifique. Si l'affichage des ads est très mauvais ça peut empêcher la personne de cliquer. Mais bon pas hyper probable\n",
    "\n",
    "KPI de récurrence pour un user : \n",
    "- #click per user (isClick)\n",
    "- #search per user (merge Userinfo et Searchinfo, count distinct searchID per user)\n",
    "- #visits per user (merge userinfo et VisitsStream, count distinct visit per user)\n",
    "\n",
    "KPI de genre de user (a-t-il tendance à cliquer sur les ads de context) :\n",
    "- #Isclick/ #impressions (#impressions = #ads per seach x #search of a user)\n",
    "- #Isclick / #search\n",
    "\n",
    "\n",
    "Type d'envie de l'user :\n",
    "- Investigate the research params for the search of a specific user"
   ]
  },
  {
   "cell_type": "code",
   "execution_count": 149,
   "metadata": {},
   "outputs": [],
   "source": [
    "#let's try to understand the favorite categories of a user"
   ]
  },
  {
   "cell_type": "code",
   "execution_count": 184,
   "metadata": {},
   "outputs": [],
   "source": [
    "tmp = pd.merge(user_info, search_info, how='inner')[['UserID', 'SearchID', 'frSearchParams']] "
   ]
  },
  {
   "cell_type": "code",
   "execution_count": 185,
   "metadata": {},
   "outputs": [
    {
     "data": {
      "text/html": [
       "<div>\n",
       "<style scoped>\n",
       "    .dataframe tbody tr th:only-of-type {\n",
       "        vertical-align: middle;\n",
       "    }\n",
       "\n",
       "    .dataframe tbody tr th {\n",
       "        vertical-align: top;\n",
       "    }\n",
       "\n",
       "    .dataframe thead th {\n",
       "        text-align: right;\n",
       "    }\n",
       "</style>\n",
       "<table border=\"1\" class=\"dataframe\">\n",
       "  <thead>\n",
       "    <tr style=\"text-align: right;\">\n",
       "      <th></th>\n",
       "      <th>UserID</th>\n",
       "      <th>SearchID</th>\n",
       "      <th>frSearchParams</th>\n",
       "    </tr>\n",
       "  </thead>\n",
       "  <tbody>\n",
       "    <tr>\n",
       "      <th>0</th>\n",
       "      <td>977</td>\n",
       "      <td>5057</td>\n",
       "      <td>NaN</td>\n",
       "    </tr>\n",
       "    <tr>\n",
       "      <th>1</th>\n",
       "      <td>1301</td>\n",
       "      <td>5043</td>\n",
       "      <td>NaN</td>\n",
       "    </tr>\n",
       "    <tr>\n",
       "      <th>2</th>\n",
       "      <td>3166</td>\n",
       "      <td>8920</td>\n",
       "      <td>{'179': 'Combinaisons et bodys', '178': 'Pour ...</td>\n",
       "    </tr>\n",
       "    <tr>\n",
       "      <th>3</th>\n",
       "      <td>3265</td>\n",
       "      <td>9836</td>\n",
       "      <td>NaN</td>\n",
       "    </tr>\n",
       "    <tr>\n",
       "      <th>4</th>\n",
       "      <td>3403</td>\n",
       "      <td>1601</td>\n",
       "      <td>NaN</td>\n",
       "    </tr>\n",
       "    <tr>\n",
       "      <th>...</th>\n",
       "      <td>...</td>\n",
       "      <td>...</td>\n",
       "      <td>...</td>\n",
       "    </tr>\n",
       "    <tr>\n",
       "      <th>9993</th>\n",
       "      <td>4337804</td>\n",
       "      <td>3336</td>\n",
       "      <td>{'45': \"Objets d'intérieur, art\"}</td>\n",
       "    </tr>\n",
       "    <tr>\n",
       "      <th>9994</th>\n",
       "      <td>4338038</td>\n",
       "      <td>4870</td>\n",
       "      <td>NaN</td>\n",
       "    </tr>\n",
       "    <tr>\n",
       "      <th>9995</th>\n",
       "      <td>4338213</td>\n",
       "      <td>883</td>\n",
       "      <td>NaN</td>\n",
       "    </tr>\n",
       "    <tr>\n",
       "      <th>9996</th>\n",
       "      <td>4338426</td>\n",
       "      <td>6221</td>\n",
       "      <td>{'127': 'Robe de lit'}</td>\n",
       "    </tr>\n",
       "    <tr>\n",
       "      <th>9997</th>\n",
       "      <td>4339381</td>\n",
       "      <td>9292</td>\n",
       "      <td>NaN</td>\n",
       "    </tr>\n",
       "  </tbody>\n",
       "</table>\n",
       "<p>9998 rows × 3 columns</p>\n",
       "</div>"
      ],
      "text/plain": [
       "       UserID  SearchID                                     frSearchParams\n",
       "0         977      5057                                                NaN\n",
       "1        1301      5043                                                NaN\n",
       "2        3166      8920  {'179': 'Combinaisons et bodys', '178': 'Pour ...\n",
       "3        3265      9836                                                NaN\n",
       "4        3403      1601                                                NaN\n",
       "...       ...       ...                                                ...\n",
       "9993  4337804      3336                  {'45': \"Objets d'intérieur, art\"}\n",
       "9994  4338038      4870                                                NaN\n",
       "9995  4338213       883                                                NaN\n",
       "9996  4338426      6221                             {'127': 'Robe de lit'}\n",
       "9997  4339381      9292                                                NaN\n",
       "\n",
       "[9998 rows x 3 columns]"
      ]
     },
     "execution_count": 185,
     "metadata": {},
     "output_type": "execute_result"
    }
   ],
   "source": [
    "tmp"
   ]
  },
  {
   "cell_type": "code",
   "execution_count": 186,
   "metadata": {},
   "outputs": [],
   "source": [
    "user_ids = (tmp.groupby('UserID').agg(nb_search = ('SearchID', 'count')) > 1).index\n",
    "mask = (tmp.groupby('UserID').agg(nb_search = ('SearchID', 'count')) > 1).nb_search.values"
   ]
  },
  {
   "attachments": {},
   "cell_type": "markdown",
   "metadata": {},
   "source": [
    "## Using Pyspark\n",
    "\n",
    "Let's try to load the data using Pyspark\n",
    "4 datasets échantillonnés : \n",
    "- adsinfo\n",
    "- visits streams\n",
    "- train_search_info\n",
    "- test_search_info"
   ]
  },
  {
   "cell_type": "code",
   "execution_count": 187,
   "metadata": {},
   "outputs": [],
   "source": [
    "from pyspark.sql import SparkSession\n",
    "from pyspark import SparkContext"
   ]
  },
  {
   "cell_type": "code",
   "execution_count": 188,
   "metadata": {},
   "outputs": [
    {
     "name": "stderr",
     "output_type": "stream",
     "text": [
      "your 131072x1 screen size is bogus. expect trouble\n"
     ]
    },
    {
     "name": "stdout",
     "output_type": "stream",
     "text": [
      "22/12/26 10:20:44 WARN Utils: Your hostname, BIOS-D4858G3 resolves to a loopback address: 127.0.1.1; using 192.168.221.174 instead (on interface eth0)\n",
      "22/12/26 10:20:44 WARN Utils: Set SPARK_LOCAL_IP if you need to bind to another address\n"
     ]
    },
    {
     "name": "stderr",
     "output_type": "stream",
     "text": [
      "Setting default log level to \"WARN\".\n",
      "To adjust logging level use sc.setLogLevel(newLevel). For SparkR, use setLogLevel(newLevel).\n"
     ]
    },
    {
     "name": "stdout",
     "output_type": "stream",
     "text": [
      "22/12/26 10:20:45 WARN NativeCodeLoader: Unable to load native-hadoop library for your platform... using builtin-java classes where applicable\n"
     ]
    }
   ],
   "source": [
    "sc = SparkContext()\n",
    "spark = SparkSession(sc)"
   ]
  },
  {
   "cell_type": "code",
   "execution_count": 189,
   "metadata": {},
   "outputs": [
    {
     "name": "stdout",
     "output_type": "stream",
     "text": [
      "22/12/26 10:23:49 WARN Utils: Your hostname, BIOS-D4858G3 resolves to a loopback address: 127.0.1.1; using 192.168.221.174 instead (on interface eth0)\n",
      "22/12/26 10:23:49 WARN Utils: Set SPARK_LOCAL_IP if you need to bind to another address\n",
      "Welcome to\n",
      "      ____              __\n",
      "     / __/__  ___ _____/ /__\n",
      "    _\\ \\/ _ \\/ _ `/ __/  '_/\n",
      "   /___/ .__/\\_,_/_/ /_/\\_\\   version 3.3.1\n",
      "      /_/\n",
      "                        \n",
      "Using Scala version 2.12.15, OpenJDK 64-Bit Server VM, 1.8.0_342\n",
      "Branch HEAD\n",
      "Compiled by user yumwang on 2022-10-15T09:47:01Z\n",
      "Revision fbbcf9434ac070dd4ced4fb9efe32899c6db12a9\n",
      "Url https://github.com/apache/spark\n",
      "Type --help for more information.\n"
     ]
    }
   ],
   "source": [
    "! spark-submit --version"
   ]
  },
  {
   "cell_type": "code",
   "execution_count": 191,
   "metadata": {},
   "outputs": [
    {
     "data": {
      "text/plain": [
       "'3.3.1'"
      ]
     },
     "execution_count": 191,
     "metadata": {},
     "output_type": "execute_result"
    }
   ],
   "source": [
    "spark.version"
   ]
  },
  {
   "cell_type": "code",
   "execution_count": 192,
   "metadata": {},
   "outputs": [],
   "source": [
    "# étude de la variable cible\n",
    "ROOT_DIR = '/mnt/f/avito-kaggle'\n",
    "df = spark.read.csv(f\"{ROOT_DIR}/trainSearchStream.tsv\", header=True, inferSchema=False, sep='\\t')"
   ]
  },
  {
   "cell_type": "code",
   "execution_count": 193,
   "metadata": {},
   "outputs": [
    {
     "data": {
      "text/plain": [
       "['SearchID', 'AdID', 'Position', 'ObjectType', 'HistCTR', 'IsClick']"
      ]
     },
     "execution_count": 193,
     "metadata": {},
     "output_type": "execute_result"
    }
   ],
   "source": [
    "df.columns"
   ]
  },
  {
   "cell_type": "code",
   "execution_count": 195,
   "metadata": {},
   "outputs": [
    {
     "name": "stderr",
     "output_type": "stream",
     "text": [
      "                                                                                \r"
     ]
    },
    {
     "data": {
      "text/plain": [
       "392356948"
      ]
     },
     "execution_count": 195,
     "metadata": {},
     "output_type": "execute_result"
    }
   ],
   "source": [
    "df.count()"
   ]
  },
  {
   "cell_type": "code",
   "execution_count": 196,
   "metadata": {},
   "outputs": [
    {
     "name": "stderr",
     "output_type": "stream",
     "text": [
      "                                                                                \r"
     ]
    },
    {
     "data": {
      "text/plain": [
       "[Row(SearchID='2', AdID='11441863', Position='1', ObjectType='3', HistCTR='0.001804', IsClick='0'),\n",
       " Row(SearchID='2', AdID='22968355', Position='7', ObjectType='3', HistCTR='0.004723', IsClick='0'),\n",
       " Row(SearchID='3', AdID='212187', Position='7', ObjectType='3', HistCTR='0.029701', IsClick='0'),\n",
       " Row(SearchID='3', AdID='34084553', Position='1', ObjectType='3', HistCTR='0.004300', IsClick='0'),\n",
       " Row(SearchID='3', AdID='36256251', Position='2', ObjectType='2', HistCTR=None, IsClick=None)]"
      ]
     },
     "execution_count": 196,
     "metadata": {},
     "output_type": "execute_result"
    }
   ],
   "source": [
    "df.head(5)"
   ]
  },
  {
   "cell_type": "code",
   "execution_count": 197,
   "metadata": {},
   "outputs": [
    {
     "name": "stdout",
     "output_type": "stream",
     "text": [
      "+--------+--------+--------+----------+--------+-------+\n",
      "|SearchID|    AdID|Position|ObjectType| HistCTR|IsClick|\n",
      "+--------+--------+--------+----------+--------+-------+\n",
      "|       2|11441863|       1|         3|0.001804|      0|\n",
      "|       2|22968355|       7|         3|0.004723|      0|\n",
      "|       3|  212187|       7|         3|0.029701|      0|\n",
      "|       3|34084553|       1|         3|0.004300|      0|\n",
      "|       3|36256251|       2|         2|    null|   null|\n",
      "+--------+--------+--------+----------+--------+-------+\n",
      "only showing top 5 rows\n",
      "\n"
     ]
    }
   ],
   "source": [
    "df.show(5)"
   ]
  },
  {
   "cell_type": "code",
   "execution_count": 199,
   "metadata": {},
   "outputs": [
    {
     "name": "stdout",
     "output_type": "stream",
     "text": [
      "+-------+\n",
      "|IsClick|\n",
      "+-------+\n",
      "|      0|\n",
      "|      0|\n",
      "|      0|\n",
      "|      0|\n",
      "|   null|\n",
      "|   null|\n",
      "|   null|\n",
      "|   null|\n",
      "|      0|\n",
      "|   null|\n",
      "|   null|\n",
      "|      0|\n",
      "|      0|\n",
      "|   null|\n",
      "|   null|\n",
      "|      0|\n",
      "|      0|\n",
      "|      0|\n",
      "|      0|\n",
      "|   null|\n",
      "+-------+\n",
      "only showing top 20 rows\n",
      "\n"
     ]
    }
   ],
   "source": [
    "df.select(\"IsClick\").show()"
   ]
  },
  {
   "cell_type": "code",
   "execution_count": 200,
   "metadata": {},
   "outputs": [
    {
     "name": "stdout",
     "output_type": "stream",
     "text": [
      "root\n",
      " |-- SearchID: string (nullable = true)\n",
      " |-- AdID: string (nullable = true)\n",
      " |-- Position: string (nullable = true)\n",
      " |-- ObjectType: string (nullable = true)\n",
      " |-- HistCTR: string (nullable = true)\n",
      " |-- IsClick: string (nullable = true)\n",
      "\n"
     ]
    }
   ],
   "source": [
    "df.printSchema()"
   ]
  },
  {
   "cell_type": "code",
   "execution_count": 206,
   "metadata": {},
   "outputs": [
    {
     "name": "stdout",
     "output_type": "stream",
     "text": [
      "22/12/26 13:26:34 WARN HeartbeatReceiver: Removing executor driver with no recent heartbeats: 145388 ms exceeds timeout 120000 ms\n"
     ]
    },
    {
     "name": "stderr",
     "output_type": "stream",
     "text": [
      "[Stage 9:>                                                        (0 + 12) / 83]\r"
     ]
    },
    {
     "name": "stdout",
     "output_type": "stream",
     "text": [
      "22/12/26 13:36:08 WARN Executor: Issue communicating with driver in heartbeater\n",
      "org.apache.spark.rpc.RpcTimeoutException: Futures timed out after [10000 milliseconds]. This timeout is controlled by spark.executor.heartbeatInterval\n",
      "\tat org.apache.spark.rpc.RpcTimeout.org$apache$spark$rpc$RpcTimeout$$createRpcTimeoutException(RpcTimeout.scala:47)\n",
      "\tat org.apache.spark.rpc.RpcTimeout$$anonfun$addMessageIfTimeout$1.applyOrElse(RpcTimeout.scala:62)\n",
      "\tat org.apache.spark.rpc.RpcTimeout$$anonfun$addMessageIfTimeout$1.applyOrElse(RpcTimeout.scala:58)\n",
      "\tat scala.runtime.AbstractPartialFunction.apply(AbstractPartialFunction.scala:38)\n",
      "\tat org.apache.spark.rpc.RpcTimeout.awaitResult(RpcTimeout.scala:76)\n",
      "\tat org.apache.spark.rpc.RpcEndpointRef.askSync(RpcEndpointRef.scala:103)\n",
      "\tat org.apache.spark.executor.Executor.reportHeartBeat(Executor.scala:1053)\n",
      "\tat org.apache.spark.executor.Executor.$anonfun$heartbeater$1(Executor.scala:238)\n",
      "\tat scala.runtime.java8.JFunction0$mcV$sp.apply(JFunction0$mcV$sp.java:23)\n",
      "\tat org.apache.spark.util.Utils$.logUncaughtExceptions(Utils.scala:2066)\n",
      "\tat org.apache.spark.Heartbeater$$anon$1.run(Heartbeater.scala:46)\n",
      "\tat java.util.concurrent.Executors$RunnableAdapter.call(Executors.java:511)\n",
      "\tat java.util.concurrent.FutureTask.runAndReset(FutureTask.java:308)\n",
      "\tat java.util.concurrent.ScheduledThreadPoolExecutor$ScheduledFutureTask.access$301(ScheduledThreadPoolExecutor.java:180)\n",
      "\tat java.util.concurrent.ScheduledThreadPoolExecutor$ScheduledFutureTask.run(ScheduledThreadPoolExecutor.java:294)\n",
      "\tat java.util.concurrent.ThreadPoolExecutor.runWorker(ThreadPoolExecutor.java:1149)\n",
      "\tat java.util.concurrent.ThreadPoolExecutor$Worker.run(ThreadPoolExecutor.java:624)\n",
      "\tat java.lang.Thread.run(Thread.java:750)\n",
      "Caused by: java.util.concurrent.TimeoutException: Futures timed out after [10000 milliseconds]\n",
      "\tat scala.concurrent.impl.Promise$DefaultPromise.ready(Promise.scala:259)\n",
      "\tat scala.concurrent.impl.Promise$DefaultPromise.result(Promise.scala:263)\n",
      "\tat org.apache.spark.util.ThreadUtils$.awaitResult(ThreadUtils.scala:293)\n",
      "\tat org.apache.spark.rpc.RpcTimeout.awaitResult(RpcTimeout.scala:75)\n",
      "\t... 13 more\n"
     ]
    },
    {
     "name": "stderr",
     "output_type": "stream",
     "text": [
      "[Stage 9:>                                                        (0 + 12) / 83]\r"
     ]
    },
    {
     "name": "stdout",
     "output_type": "stream",
     "text": [
      "22/12/26 13:39:15 ERROR Inbox: Ignoring error\n",
      "java.lang.IllegalStateException: Promise already completed.\n",
      "\tat scala.concurrent.Promise.complete(Promise.scala:53)\n",
      "\tat scala.concurrent.Promise.complete$(Promise.scala:52)\n",
      "\tat scala.concurrent.impl.Promise$DefaultPromise.complete(Promise.scala:187)\n",
      "\tat scala.concurrent.Promise.success(Promise.scala:86)\n",
      "\tat scala.concurrent.Promise.success$(Promise.scala:86)\n",
      "\tat scala.concurrent.impl.Promise$DefaultPromise.success(Promise.scala:187)\n",
      "\tat org.apache.spark.rpc.netty.LocalNettyRpcCallContext.send(NettyRpcCallContext.scala:50)\n",
      "\tat org.apache.spark.rpc.netty.NettyRpcCallContext.sendFailure(NettyRpcCallContext.scala:36)\n",
      "\tat org.apache.spark.rpc.netty.Inbox.$anonfun$process$1(Inbox.scala:108)\n",
      "\tat org.apache.spark.rpc.netty.Inbox.safelyCall(Inbox.scala:213)\n",
      "\tat org.apache.spark.rpc.netty.Inbox.process(Inbox.scala:100)\n",
      "\tat org.apache.spark.rpc.netty.MessageLoop.org$apache$spark$rpc$netty$MessageLoop$$receiveLoop(MessageLoop.scala:75)\n",
      "\tat org.apache.spark.rpc.netty.MessageLoop$$anon$1.run(MessageLoop.scala:41)\n",
      "\tat java.util.concurrent.ThreadPoolExecutor.runWorker(ThreadPoolExecutor.java:1149)\n",
      "\tat java.util.concurrent.ThreadPoolExecutor$Worker.run(ThreadPoolExecutor.java:624)\n",
      "\tat java.lang.Thread.run(Thread.java:750)\n",
      "22/12/26 13:39:15 WARN NettyRpcEnv: Ignored message: true\n"
     ]
    },
    {
     "name": "stdout",
     "output_type": "stream",
     "text": [
      "22/12/26 13:39:15 WARN NettyRpcEnv: Ignored message: HeartbeatResponse(true)\n",
      "22/12/26 13:39:15 WARN NettyRpcEnv: Ignored message: true\n",
      "22/12/26 13:39:15 WARN NettyRpcEnv: Ignored message: true\n",
      "22/12/26 13:39:15 WARN NettyRpcEnv: Ignored message: true\n",
      "22/12/26 13:39:15 WARN NettyRpcEnv: Ignored message: true\n",
      "22/12/26 13:39:15 WARN NettyRpcEnv: Ignored message: true\n",
      "22/12/26 13:39:15 WARN NettyRpcEnv: Ignored message: true\n",
      "22/12/26 13:39:15 WARN NettyRpcEnv: Ignored message: true\n",
      "22/12/26 13:39:15 WARN NettyRpcEnv: Ignored message: true\n",
      "22/12/26 13:39:15 WARN NettyRpcEnv: Ignored message: true\n"
     ]
    },
    {
     "name": "stderr",
     "output_type": "stream",
     "text": [
      "Exception in thread \"serve-DataFrame\" java.net.SocketTimeoutException: Accept timed out\n",
      "\tat java.net.PlainSocketImpl.socketAccept(Native Method)\n",
      "\tat java.net.AbstractPlainSocketImpl.accept(AbstractPlainSocketImpl.java:409)\n",
      "\tat java.net.ServerSocket.implAccept(ServerSocket.java:560)\n",
      "\tat java.net.ServerSocket.accept(ServerSocket.java:528)\n",
      "\tat org.apache.spark.security.SocketAuthServer$$anon$1.run(SocketAuthServer.scala:64)\n"
     ]
    }
   ],
   "source": [
    "x = df.sample(withReplacement=False, fraction=1e-6, seed=123)"
   ]
  },
  {
   "cell_type": "code",
   "execution_count": 208,
   "metadata": {},
   "outputs": [
    {
     "name": "stderr",
     "output_type": "stream",
     "text": [
      "ERROR:root:KeyboardInterrupt while sending command.               (0 + 12) / 83]\n",
      "Traceback (most recent call last):\n",
      "  File \"/home/francois/miniconda3/envs/datascience/lib/python3.8/site-packages/py4j/java_gateway.py\", line 1038, in send_command\n",
      "    response = connection.send_command(command)\n",
      "  File \"/home/francois/miniconda3/envs/datascience/lib/python3.8/site-packages/py4j/clientserver.py\", line 511, in send_command\n",
      "    answer = smart_decode(self.stream.readline()[:-1])\n",
      "  File \"/home/francois/miniconda3/envs/datascience/lib/python3.8/socket.py\", line 669, in readinto\n",
      "    return self._sock.recv_into(b)\n",
      "KeyboardInterrupt\n"
     ]
    },
    {
     "ename": "KeyboardInterrupt",
     "evalue": "",
     "output_type": "error",
     "traceback": [
      "\u001b[0;31m---------------------------------------------------------------------------\u001b[0m",
      "\u001b[0;31mKeyboardInterrupt\u001b[0m                         Traceback (most recent call last)",
      "\u001b[1;32m/home/francois/tuto/avito-kaggle/personal_analysis.ipynb Cell 81\u001b[0m in \u001b[0;36m<cell line: 1>\u001b[0;34m()\u001b[0m\n\u001b[0;32m----> <a href='vscode-notebook-cell://wsl%2Bubuntu/home/francois/tuto/avito-kaggle/personal_analysis.ipynb#Y203sdnNjb2RlLXJlbW90ZQ%3D%3D?line=0'>1</a>\u001b[0m x\u001b[39m.\u001b[39;49mcount()\n",
      "File \u001b[0;32m~/miniconda3/envs/datascience/lib/python3.8/site-packages/pyspark/sql/dataframe.py:804\u001b[0m, in \u001b[0;36mDataFrame.count\u001b[0;34m(self)\u001b[0m\n\u001b[1;32m    794\u001b[0m \u001b[39mdef\u001b[39;00m \u001b[39mcount\u001b[39m(\u001b[39mself\u001b[39m) \u001b[39m-\u001b[39m\u001b[39m>\u001b[39m \u001b[39mint\u001b[39m:\n\u001b[1;32m    795\u001b[0m     \u001b[39m\"\"\"Returns the number of rows in this :class:`DataFrame`.\u001b[39;00m\n\u001b[1;32m    796\u001b[0m \n\u001b[1;32m    797\u001b[0m \u001b[39m    .. versionadded:: 1.3.0\u001b[39;00m\n\u001b[0;32m   (...)\u001b[0m\n\u001b[1;32m    802\u001b[0m \u001b[39m    2\u001b[39;00m\n\u001b[1;32m    803\u001b[0m \u001b[39m    \"\"\"\u001b[39;00m\n\u001b[0;32m--> 804\u001b[0m     \u001b[39mreturn\u001b[39;00m \u001b[39mint\u001b[39m(\u001b[39mself\u001b[39;49m\u001b[39m.\u001b[39;49m_jdf\u001b[39m.\u001b[39;49mcount())\n",
      "File \u001b[0;32m~/miniconda3/envs/datascience/lib/python3.8/site-packages/py4j/java_gateway.py:1320\u001b[0m, in \u001b[0;36mJavaMember.__call__\u001b[0;34m(self, *args)\u001b[0m\n\u001b[1;32m   1313\u001b[0m args_command, temp_args \u001b[39m=\u001b[39m \u001b[39mself\u001b[39m\u001b[39m.\u001b[39m_build_args(\u001b[39m*\u001b[39margs)\n\u001b[1;32m   1315\u001b[0m command \u001b[39m=\u001b[39m proto\u001b[39m.\u001b[39mCALL_COMMAND_NAME \u001b[39m+\u001b[39m\\\n\u001b[1;32m   1316\u001b[0m     \u001b[39mself\u001b[39m\u001b[39m.\u001b[39mcommand_header \u001b[39m+\u001b[39m\\\n\u001b[1;32m   1317\u001b[0m     args_command \u001b[39m+\u001b[39m\\\n\u001b[1;32m   1318\u001b[0m     proto\u001b[39m.\u001b[39mEND_COMMAND_PART\n\u001b[0;32m-> 1320\u001b[0m answer \u001b[39m=\u001b[39m \u001b[39mself\u001b[39;49m\u001b[39m.\u001b[39;49mgateway_client\u001b[39m.\u001b[39;49msend_command(command)\n\u001b[1;32m   1321\u001b[0m return_value \u001b[39m=\u001b[39m get_return_value(\n\u001b[1;32m   1322\u001b[0m     answer, \u001b[39mself\u001b[39m\u001b[39m.\u001b[39mgateway_client, \u001b[39mself\u001b[39m\u001b[39m.\u001b[39mtarget_id, \u001b[39mself\u001b[39m\u001b[39m.\u001b[39mname)\n\u001b[1;32m   1324\u001b[0m \u001b[39mfor\u001b[39;00m temp_arg \u001b[39min\u001b[39;00m temp_args:\n",
      "File \u001b[0;32m~/miniconda3/envs/datascience/lib/python3.8/site-packages/py4j/java_gateway.py:1038\u001b[0m, in \u001b[0;36mGatewayClient.send_command\u001b[0;34m(self, command, retry, binary)\u001b[0m\n\u001b[1;32m   1036\u001b[0m connection \u001b[39m=\u001b[39m \u001b[39mself\u001b[39m\u001b[39m.\u001b[39m_get_connection()\n\u001b[1;32m   1037\u001b[0m \u001b[39mtry\u001b[39;00m:\n\u001b[0;32m-> 1038\u001b[0m     response \u001b[39m=\u001b[39m connection\u001b[39m.\u001b[39;49msend_command(command)\n\u001b[1;32m   1039\u001b[0m     \u001b[39mif\u001b[39;00m binary:\n\u001b[1;32m   1040\u001b[0m         \u001b[39mreturn\u001b[39;00m response, \u001b[39mself\u001b[39m\u001b[39m.\u001b[39m_create_connection_guard(connection)\n",
      "File \u001b[0;32m~/miniconda3/envs/datascience/lib/python3.8/site-packages/py4j/clientserver.py:511\u001b[0m, in \u001b[0;36mClientServerConnection.send_command\u001b[0;34m(self, command)\u001b[0m\n\u001b[1;32m    509\u001b[0m \u001b[39mtry\u001b[39;00m:\n\u001b[1;32m    510\u001b[0m     \u001b[39mwhile\u001b[39;00m \u001b[39mTrue\u001b[39;00m:\n\u001b[0;32m--> 511\u001b[0m         answer \u001b[39m=\u001b[39m smart_decode(\u001b[39mself\u001b[39;49m\u001b[39m.\u001b[39;49mstream\u001b[39m.\u001b[39;49mreadline()[:\u001b[39m-\u001b[39m\u001b[39m1\u001b[39m])\n\u001b[1;32m    512\u001b[0m         logger\u001b[39m.\u001b[39mdebug(\u001b[39m\"\u001b[39m\u001b[39mAnswer received: \u001b[39m\u001b[39m{0}\u001b[39;00m\u001b[39m\"\u001b[39m\u001b[39m.\u001b[39mformat(answer))\n\u001b[1;32m    513\u001b[0m         \u001b[39m# Happens when a the other end is dead. There might be an empty\u001b[39;00m\n\u001b[1;32m    514\u001b[0m         \u001b[39m# answer before the socket raises an error.\u001b[39;00m\n",
      "File \u001b[0;32m~/miniconda3/envs/datascience/lib/python3.8/socket.py:669\u001b[0m, in \u001b[0;36mSocketIO.readinto\u001b[0;34m(self, b)\u001b[0m\n\u001b[1;32m    667\u001b[0m \u001b[39mwhile\u001b[39;00m \u001b[39mTrue\u001b[39;00m:\n\u001b[1;32m    668\u001b[0m     \u001b[39mtry\u001b[39;00m:\n\u001b[0;32m--> 669\u001b[0m         \u001b[39mreturn\u001b[39;00m \u001b[39mself\u001b[39;49m\u001b[39m.\u001b[39;49m_sock\u001b[39m.\u001b[39;49mrecv_into(b)\n\u001b[1;32m    670\u001b[0m     \u001b[39mexcept\u001b[39;00m timeout:\n\u001b[1;32m    671\u001b[0m         \u001b[39mself\u001b[39m\u001b[39m.\u001b[39m_timeout_occurred \u001b[39m=\u001b[39m \u001b[39mTrue\u001b[39;00m\n",
      "\u001b[0;31mKeyboardInterrupt\u001b[0m: "
     ]
    }
   ],
   "source": [
    "x.count()"
   ]
  },
  {
   "cell_type": "code",
   "execution_count": 209,
   "metadata": {},
   "outputs": [
    {
     "name": "stderr",
     "output_type": "stream",
     "text": [
      "ERROR:root:KeyboardInterrupt while sending command.                 (0 + 0) / 1]\n",
      "Traceback (most recent call last):\n",
      "  File \"/home/francois/miniconda3/envs/datascience/lib/python3.8/site-packages/py4j/java_gateway.py\", line 1038, in send_command\n",
      "    response = connection.send_command(command)\n",
      "  File \"/home/francois/miniconda3/envs/datascience/lib/python3.8/site-packages/py4j/clientserver.py\", line 511, in send_command\n",
      "    answer = smart_decode(self.stream.readline()[:-1])\n",
      "  File \"/home/francois/miniconda3/envs/datascience/lib/python3.8/socket.py\", line 669, in readinto\n",
      "    return self._sock.recv_into(b)\n",
      "KeyboardInterrupt\n"
     ]
    },
    {
     "ename": "KeyboardInterrupt",
     "evalue": "",
     "output_type": "error",
     "traceback": [
      "\u001b[0;31m---------------------------------------------------------------------------\u001b[0m",
      "\u001b[0;31mKeyboardInterrupt\u001b[0m                         Traceback (most recent call last)",
      "\u001b[1;32m/home/francois/tuto/avito-kaggle/personal_analysis.ipynb Cell 82\u001b[0m in \u001b[0;36m<cell line: 1>\u001b[0;34m()\u001b[0m\n\u001b[0;32m----> <a href='vscode-notebook-cell://wsl%2Bubuntu/home/francois/tuto/avito-kaggle/personal_analysis.ipynb#Y204sdnNjb2RlLXJlbW90ZQ%3D%3D?line=0'>1</a>\u001b[0m tmp \u001b[39m=\u001b[39m x\u001b[39m.\u001b[39;49mtoPandas()\n",
      "File \u001b[0;32m~/miniconda3/envs/datascience/lib/python3.8/site-packages/pyspark/sql/pandas/conversion.py:205\u001b[0m, in \u001b[0;36mPandasConversionMixin.toPandas\u001b[0;34m(self)\u001b[0m\n\u001b[1;32m    202\u001b[0m             \u001b[39mraise\u001b[39;00m\n\u001b[1;32m    204\u001b[0m \u001b[39m# Below is toPandas without Arrow optimization.\u001b[39;00m\n\u001b[0;32m--> 205\u001b[0m pdf \u001b[39m=\u001b[39m pd\u001b[39m.\u001b[39mDataFrame\u001b[39m.\u001b[39mfrom_records(\u001b[39mself\u001b[39;49m\u001b[39m.\u001b[39;49mcollect(), columns\u001b[39m=\u001b[39m\u001b[39mself\u001b[39m\u001b[39m.\u001b[39mcolumns)\n\u001b[1;32m    206\u001b[0m column_counter \u001b[39m=\u001b[39m Counter(\u001b[39mself\u001b[39m\u001b[39m.\u001b[39mcolumns)\n\u001b[1;32m    208\u001b[0m corrected_dtypes: List[Optional[Type]] \u001b[39m=\u001b[39m [\u001b[39mNone\u001b[39;00m] \u001b[39m*\u001b[39m \u001b[39mlen\u001b[39m(\u001b[39mself\u001b[39m\u001b[39m.\u001b[39mschema)\n",
      "File \u001b[0;32m~/miniconda3/envs/datascience/lib/python3.8/site-packages/pyspark/sql/dataframe.py:817\u001b[0m, in \u001b[0;36mDataFrame.collect\u001b[0;34m(self)\u001b[0m\n\u001b[1;32m    807\u001b[0m \u001b[39m\"\"\"Returns all the records as a list of :class:`Row`.\u001b[39;00m\n\u001b[1;32m    808\u001b[0m \n\u001b[1;32m    809\u001b[0m \u001b[39m.. versionadded:: 1.3.0\u001b[39;00m\n\u001b[0;32m   (...)\u001b[0m\n\u001b[1;32m    814\u001b[0m \u001b[39m[Row(age=2, name='Alice'), Row(age=5, name='Bob')]\u001b[39;00m\n\u001b[1;32m    815\u001b[0m \u001b[39m\"\"\"\u001b[39;00m\n\u001b[1;32m    816\u001b[0m \u001b[39mwith\u001b[39;00m SCCallSiteSync(\u001b[39mself\u001b[39m\u001b[39m.\u001b[39m_sc):\n\u001b[0;32m--> 817\u001b[0m     sock_info \u001b[39m=\u001b[39m \u001b[39mself\u001b[39;49m\u001b[39m.\u001b[39;49m_jdf\u001b[39m.\u001b[39;49mcollectToPython()\n\u001b[1;32m    818\u001b[0m \u001b[39mreturn\u001b[39;00m \u001b[39mlist\u001b[39m(_load_from_socket(sock_info, BatchedSerializer(CPickleSerializer())))\n",
      "File \u001b[0;32m~/miniconda3/envs/datascience/lib/python3.8/site-packages/py4j/java_gateway.py:1320\u001b[0m, in \u001b[0;36mJavaMember.__call__\u001b[0;34m(self, *args)\u001b[0m\n\u001b[1;32m   1313\u001b[0m args_command, temp_args \u001b[39m=\u001b[39m \u001b[39mself\u001b[39m\u001b[39m.\u001b[39m_build_args(\u001b[39m*\u001b[39margs)\n\u001b[1;32m   1315\u001b[0m command \u001b[39m=\u001b[39m proto\u001b[39m.\u001b[39mCALL_COMMAND_NAME \u001b[39m+\u001b[39m\\\n\u001b[1;32m   1316\u001b[0m     \u001b[39mself\u001b[39m\u001b[39m.\u001b[39mcommand_header \u001b[39m+\u001b[39m\\\n\u001b[1;32m   1317\u001b[0m     args_command \u001b[39m+\u001b[39m\\\n\u001b[1;32m   1318\u001b[0m     proto\u001b[39m.\u001b[39mEND_COMMAND_PART\n\u001b[0;32m-> 1320\u001b[0m answer \u001b[39m=\u001b[39m \u001b[39mself\u001b[39;49m\u001b[39m.\u001b[39;49mgateway_client\u001b[39m.\u001b[39;49msend_command(command)\n\u001b[1;32m   1321\u001b[0m return_value \u001b[39m=\u001b[39m get_return_value(\n\u001b[1;32m   1322\u001b[0m     answer, \u001b[39mself\u001b[39m\u001b[39m.\u001b[39mgateway_client, \u001b[39mself\u001b[39m\u001b[39m.\u001b[39mtarget_id, \u001b[39mself\u001b[39m\u001b[39m.\u001b[39mname)\n\u001b[1;32m   1324\u001b[0m \u001b[39mfor\u001b[39;00m temp_arg \u001b[39min\u001b[39;00m temp_args:\n",
      "File \u001b[0;32m~/miniconda3/envs/datascience/lib/python3.8/site-packages/py4j/java_gateway.py:1038\u001b[0m, in \u001b[0;36mGatewayClient.send_command\u001b[0;34m(self, command, retry, binary)\u001b[0m\n\u001b[1;32m   1036\u001b[0m connection \u001b[39m=\u001b[39m \u001b[39mself\u001b[39m\u001b[39m.\u001b[39m_get_connection()\n\u001b[1;32m   1037\u001b[0m \u001b[39mtry\u001b[39;00m:\n\u001b[0;32m-> 1038\u001b[0m     response \u001b[39m=\u001b[39m connection\u001b[39m.\u001b[39;49msend_command(command)\n\u001b[1;32m   1039\u001b[0m     \u001b[39mif\u001b[39;00m binary:\n\u001b[1;32m   1040\u001b[0m         \u001b[39mreturn\u001b[39;00m response, \u001b[39mself\u001b[39m\u001b[39m.\u001b[39m_create_connection_guard(connection)\n",
      "File \u001b[0;32m~/miniconda3/envs/datascience/lib/python3.8/site-packages/py4j/clientserver.py:511\u001b[0m, in \u001b[0;36mClientServerConnection.send_command\u001b[0;34m(self, command)\u001b[0m\n\u001b[1;32m    509\u001b[0m \u001b[39mtry\u001b[39;00m:\n\u001b[1;32m    510\u001b[0m     \u001b[39mwhile\u001b[39;00m \u001b[39mTrue\u001b[39;00m:\n\u001b[0;32m--> 511\u001b[0m         answer \u001b[39m=\u001b[39m smart_decode(\u001b[39mself\u001b[39;49m\u001b[39m.\u001b[39;49mstream\u001b[39m.\u001b[39;49mreadline()[:\u001b[39m-\u001b[39m\u001b[39m1\u001b[39m])\n\u001b[1;32m    512\u001b[0m         logger\u001b[39m.\u001b[39mdebug(\u001b[39m\"\u001b[39m\u001b[39mAnswer received: \u001b[39m\u001b[39m{0}\u001b[39;00m\u001b[39m\"\u001b[39m\u001b[39m.\u001b[39mformat(answer))\n\u001b[1;32m    513\u001b[0m         \u001b[39m# Happens when a the other end is dead. There might be an empty\u001b[39;00m\n\u001b[1;32m    514\u001b[0m         \u001b[39m# answer before the socket raises an error.\u001b[39;00m\n",
      "File \u001b[0;32m~/miniconda3/envs/datascience/lib/python3.8/socket.py:669\u001b[0m, in \u001b[0;36mSocketIO.readinto\u001b[0;34m(self, b)\u001b[0m\n\u001b[1;32m    667\u001b[0m \u001b[39mwhile\u001b[39;00m \u001b[39mTrue\u001b[39;00m:\n\u001b[1;32m    668\u001b[0m     \u001b[39mtry\u001b[39;00m:\n\u001b[0;32m--> 669\u001b[0m         \u001b[39mreturn\u001b[39;00m \u001b[39mself\u001b[39;49m\u001b[39m.\u001b[39;49m_sock\u001b[39m.\u001b[39;49mrecv_into(b)\n\u001b[1;32m    670\u001b[0m     \u001b[39mexcept\u001b[39;00m timeout:\n\u001b[1;32m    671\u001b[0m         \u001b[39mself\u001b[39m\u001b[39m.\u001b[39m_timeout_occurred \u001b[39m=\u001b[39m \u001b[39mTrue\u001b[39;00m\n",
      "\u001b[0;31mKeyboardInterrupt\u001b[0m: "
     ]
    }
   ],
   "source": [
    "tmp = x.toPandas()"
   ]
  },
  {
   "cell_type": "code",
   "execution_count": null,
   "metadata": {},
   "outputs": [],
   "source": []
  }
 ],
 "metadata": {
  "kernelspec": {
   "display_name": "datascience",
   "language": "python",
   "name": "python3"
  },
  "language_info": {
   "codemirror_mode": {
    "name": "ipython",
    "version": 3
   },
   "file_extension": ".py",
   "mimetype": "text/x-python",
   "name": "python",
   "nbconvert_exporter": "python",
   "pygments_lexer": "ipython3",
   "version": "3.8.13"
  },
  "orig_nbformat": 4,
  "vscode": {
   "interpreter": {
    "hash": "8fbbd08c8c7bb2a358162d9c68626f539c0746a7240641f55db1d67d15cdf308"
   }
  }
 },
 "nbformat": 4,
 "nbformat_minor": 2
}
